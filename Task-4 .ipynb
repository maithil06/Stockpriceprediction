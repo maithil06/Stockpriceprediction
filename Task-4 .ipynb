{
 "cells": [
  {
   "cell_type": "markdown",
   "metadata": {},
   "source": [
    "# Task-4 Stock Market Prediction"
   ]
  },
  {
   "cell_type": "markdown",
   "metadata": {},
   "source": [
    "## Importing Relevant Libraries "
   ]
  },
  {
   "cell_type": "code",
   "execution_count": 95,
   "metadata": {
    "id": "eqWEAPFd9TCr"
   },
   "outputs": [],
   "source": [
    "import pandas as pd\n",
    "import numpy as np\n",
    "import matplotlib.pyplot as plt\n",
    "import seaborn as sns\n",
    "sns.set()"
   ]
  },
  {
   "cell_type": "markdown",
   "metadata": {},
   "source": [
    "## Loading datasets "
   ]
  },
  {
   "cell_type": "code",
   "execution_count": 3,
   "metadata": {
    "id": "zDtFEi6Q9lOT"
   },
   "outputs": [],
   "source": [
    "Stock=pd.read_csv('BSESN1.csv')"
   ]
  },
  {
   "cell_type": "code",
   "execution_count": 68,
   "metadata": {},
   "outputs": [
    {
     "data": {
      "text/plain": [
       "(249, 7)"
      ]
     },
     "execution_count": 68,
     "metadata": {},
     "output_type": "execute_result"
    }
   ],
   "source": [
    "Stock.shape"
   ]
  },
  {
   "cell_type": "code",
   "execution_count": 97,
   "metadata": {},
   "outputs": [
    {
     "data": {
      "text/plain": [
       "<AxesSubplot:ylabel='Close'>"
      ]
     },
     "execution_count": 97,
     "metadata": {},
     "output_type": "execute_result"
    },
    {
     "data": {
      "image/png": "[encoded data removed]",
      "text/plain": [
       "<Figure size 432x288 with 1 Axes>"
      ]
     },
     "metadata": {},
     "output_type": "display_data"
    }
   ],
   "source": [
    "sns.lineplot(x=Stock.index, y=Stock.Close)"
   ]
  },
  {
   "cell_type": "markdown",
   "metadata": {},
   "source": [
    "## Note: Here we can see a huge dropdown due to corona pandemic lockdown"
   ]
  },
  {
   "cell_type": "code",
   "execution_count": 4,
   "metadata": {
    "id": "mYwEIk6J-H5H"
   },
   "outputs": [],
   "source": [
    "news=pd.read_csv('india-news-headlines.csv')"
   ]
  },
  {
   "cell_type": "markdown",
   "metadata": {},
   "source": [
    "## Importing some more libraries  "
   ]
  },
  {
   "cell_type": "code",
   "execution_count": 5,
   "metadata": {
    "id": "e8IUyNQy_iBE"
   },
   "outputs": [],
   "source": [
    "from textblob import TextBlob\n",
    "import re\n",
    "import nltk\n",
    "from vaderSentiment.vaderSentiment import SentimentIntensityAnalyzer"
   ]
  },
  {
   "cell_type": "code",
   "execution_count": 6,
   "metadata": {
    "id": "yOBHqjtAfg74"
   },
   "outputs": [],
   "source": [
    "news=news.head(6000)"
   ]
  },
  {
   "cell_type": "markdown",
   "metadata": {},
   "source": [
    "#### Note: Here i have taken top 6000 headlines as jupyter notebooks cannot handle such large amount of data"
   ]
  },
  {
   "cell_type": "code",
   "execution_count": 7,
   "metadata": {
    "colab": {
     "base_uri": "https://localhost:8080/",
     "height": 402
    },
    "id": "ycR6ktLzfmlx",
    "outputId": "28916408-e8e9-4ad0-808d-be774222a454"
   },
   "outputs": [
    {
     "data": {
      "text/html": [
       "<div>\n",
       "<style scoped>\n",
       "    .dataframe tbody tr th:only-of-type {\n",
       "        vertical-align: middle;\n",
       "    }\n",
       "\n",
       "    .dataframe tbody tr th {\n",
       "        vertical-align: top;\n",
       "    }\n",
       "\n",
       "    .dataframe thead th {\n",
       "        text-align: right;\n",
       "    }\n",
       "</style>\n",
       "<table border=\"1\" class=\"dataframe\">\n",
       "  <thead>\n",
       "    <tr style=\"text-align: right;\">\n",
       "      <th></th>\n",
       "      <th>publish_date</th>\n",
       "      <th>headline_category</th>\n",
       "      <th>headline_text</th>\n",
       "    </tr>\n",
       "  </thead>\n",
       "  <tbody>\n",
       "    <tr>\n",
       "      <th>0</th>\n",
       "      <td>20010101</td>\n",
       "      <td>sports.wwe</td>\n",
       "      <td>win over cena satisfying but defeating underta...</td>\n",
       "    </tr>\n",
       "    <tr>\n",
       "      <th>1</th>\n",
       "      <td>20010102</td>\n",
       "      <td>unknown</td>\n",
       "      <td>Status quo will not be disturbed at Ayodhya; s...</td>\n",
       "    </tr>\n",
       "    <tr>\n",
       "      <th>2</th>\n",
       "      <td>20010102</td>\n",
       "      <td>unknown</td>\n",
       "      <td>Fissures in Hurriyat over Pak visit</td>\n",
       "    </tr>\n",
       "    <tr>\n",
       "      <th>3</th>\n",
       "      <td>20010102</td>\n",
       "      <td>unknown</td>\n",
       "      <td>America's unwanted heading for India?</td>\n",
       "    </tr>\n",
       "    <tr>\n",
       "      <th>4</th>\n",
       "      <td>20010102</td>\n",
       "      <td>unknown</td>\n",
       "      <td>For bigwigs; it is destination Goa</td>\n",
       "    </tr>\n",
       "    <tr>\n",
       "      <th>...</th>\n",
       "      <td>...</td>\n",
       "      <td>...</td>\n",
       "      <td>...</td>\n",
       "    </tr>\n",
       "    <tr>\n",
       "      <th>5995</th>\n",
       "      <td>20010625</td>\n",
       "      <td>unknown</td>\n",
       "      <td>China to have largest mobile phone market soon</td>\n",
       "    </tr>\n",
       "    <tr>\n",
       "      <th>5996</th>\n",
       "      <td>20010625</td>\n",
       "      <td>unknown</td>\n",
       "      <td>Jeev shoots 3-under 69; finishes fourth</td>\n",
       "    </tr>\n",
       "    <tr>\n",
       "      <th>5997</th>\n",
       "      <td>20010625</td>\n",
       "      <td>india</td>\n",
       "      <td>Hurriyat to wait for response from Vajpayee; M...</td>\n",
       "    </tr>\n",
       "    <tr>\n",
       "      <th>5998</th>\n",
       "      <td>20010625</td>\n",
       "      <td>business.india-business</td>\n",
       "      <td>Desperately seeking disinvestment</td>\n",
       "    </tr>\n",
       "    <tr>\n",
       "      <th>5999</th>\n",
       "      <td>20010625</td>\n",
       "      <td>india</td>\n",
       "      <td>Brigadier to move court over sacking</td>\n",
       "    </tr>\n",
       "  </tbody>\n",
       "</table>\n",
       "<p>6000 rows × 3 columns</p>\n",
       "</div>"
      ],
      "text/plain": [
       "      publish_date        headline_category  \\\n",
       "0         20010101               sports.wwe   \n",
       "1         20010102                  unknown   \n",
       "2         20010102                  unknown   \n",
       "3         20010102                  unknown   \n",
       "4         20010102                  unknown   \n",
       "...            ...                      ...   \n",
       "5995      20010625                  unknown   \n",
       "5996      20010625                  unknown   \n",
       "5997      20010625                    india   \n",
       "5998      20010625  business.india-business   \n",
       "5999      20010625                    india   \n",
       "\n",
       "                                          headline_text  \n",
       "0     win over cena satisfying but defeating underta...  \n",
       "1     Status quo will not be disturbed at Ayodhya; s...  \n",
       "2                   Fissures in Hurriyat over Pak visit  \n",
       "3                 America's unwanted heading for India?  \n",
       "4                    For bigwigs; it is destination Goa  \n",
       "...                                                 ...  \n",
       "5995     China to have largest mobile phone market soon  \n",
       "5996            Jeev shoots 3-under 69; finishes fourth  \n",
       "5997  Hurriyat to wait for response from Vajpayee; M...  \n",
       "5998                  Desperately seeking disinvestment  \n",
       "5999               Brigadier to move court over sacking  \n",
       "\n",
       "[6000 rows x 3 columns]"
      ]
     },
     "execution_count": 7,
     "metadata": {},
     "output_type": "execute_result"
    }
   ],
   "source": [
    "news"
   ]
  },
  {
   "cell_type": "markdown",
   "metadata": {},
   "source": [
    "## Data Cleaning"
   ]
  },
  {
   "cell_type": "code",
   "execution_count": 8,
   "metadata": {
    "colab": {
     "base_uri": "https://localhost:8080/",
     "height": 402
    },
    "id": "mqJ4V7-3gQvP",
    "outputId": "09efd107-a2d1-4978-ad9e-cf4d7573109c",
    "scrolled": true
   },
   "outputs": [
    {
     "data": {
      "text/html": [
       "<div>\n",
       "<style scoped>\n",
       "    .dataframe tbody tr th:only-of-type {\n",
       "        vertical-align: middle;\n",
       "    }\n",
       "\n",
       "    .dataframe tbody tr th {\n",
       "        vertical-align: top;\n",
       "    }\n",
       "\n",
       "    .dataframe thead th {\n",
       "        text-align: right;\n",
       "    }\n",
       "</style>\n",
       "<table border=\"1\" class=\"dataframe\">\n",
       "  <thead>\n",
       "    <tr style=\"text-align: right;\">\n",
       "      <th></th>\n",
       "      <th>publish_date</th>\n",
       "      <th>headline_category</th>\n",
       "      <th>headline_text</th>\n",
       "    </tr>\n",
       "  </thead>\n",
       "  <tbody>\n",
       "    <tr>\n",
       "      <th>0</th>\n",
       "      <td>20010101</td>\n",
       "      <td>sports.wwe</td>\n",
       "      <td>win over cena satisfying but defeating underta...</td>\n",
       "    </tr>\n",
       "    <tr>\n",
       "      <th>1</th>\n",
       "      <td>20010102</td>\n",
       "      <td>unknown</td>\n",
       "      <td>Status quo will not be disturbed at Ayodhya; s...</td>\n",
       "    </tr>\n",
       "    <tr>\n",
       "      <th>2</th>\n",
       "      <td>20010102</td>\n",
       "      <td>unknown</td>\n",
       "      <td>Fissures in Hurriyat over Pak visit</td>\n",
       "    </tr>\n",
       "    <tr>\n",
       "      <th>3</th>\n",
       "      <td>20010102</td>\n",
       "      <td>unknown</td>\n",
       "      <td>America's unwanted heading for India?</td>\n",
       "    </tr>\n",
       "    <tr>\n",
       "      <th>4</th>\n",
       "      <td>20010102</td>\n",
       "      <td>unknown</td>\n",
       "      <td>For bigwigs; it is destination Goa</td>\n",
       "    </tr>\n",
       "    <tr>\n",
       "      <th>...</th>\n",
       "      <td>...</td>\n",
       "      <td>...</td>\n",
       "      <td>...</td>\n",
       "    </tr>\n",
       "    <tr>\n",
       "      <th>5995</th>\n",
       "      <td>20010625</td>\n",
       "      <td>unknown</td>\n",
       "      <td>China to have largest mobile phone market soon</td>\n",
       "    </tr>\n",
       "    <tr>\n",
       "      <th>5996</th>\n",
       "      <td>20010625</td>\n",
       "      <td>unknown</td>\n",
       "      <td>Jeev shoots 3-under 69; finishes fourth</td>\n",
       "    </tr>\n",
       "    <tr>\n",
       "      <th>5997</th>\n",
       "      <td>20010625</td>\n",
       "      <td>india</td>\n",
       "      <td>Hurriyat to wait for response from Vajpayee; M...</td>\n",
       "    </tr>\n",
       "    <tr>\n",
       "      <th>5998</th>\n",
       "      <td>20010625</td>\n",
       "      <td>business.india-business</td>\n",
       "      <td>Desperately seeking disinvestment</td>\n",
       "    </tr>\n",
       "    <tr>\n",
       "      <th>5999</th>\n",
       "      <td>20010625</td>\n",
       "      <td>india</td>\n",
       "      <td>Brigadier to move court over sacking</td>\n",
       "    </tr>\n",
       "  </tbody>\n",
       "</table>\n",
       "<p>6000 rows × 3 columns</p>\n",
       "</div>"
      ],
      "text/plain": [
       "      publish_date        headline_category  \\\n",
       "0         20010101               sports.wwe   \n",
       "1         20010102                  unknown   \n",
       "2         20010102                  unknown   \n",
       "3         20010102                  unknown   \n",
       "4         20010102                  unknown   \n",
       "...            ...                      ...   \n",
       "5995      20010625                  unknown   \n",
       "5996      20010625                  unknown   \n",
       "5997      20010625                    india   \n",
       "5998      20010625  business.india-business   \n",
       "5999      20010625                    india   \n",
       "\n",
       "                                          headline_text  \n",
       "0     win over cena satisfying but defeating underta...  \n",
       "1     Status quo will not be disturbed at Ayodhya; s...  \n",
       "2                   Fissures in Hurriyat over Pak visit  \n",
       "3                 America's unwanted heading for India?  \n",
       "4                    For bigwigs; it is destination Goa  \n",
       "...                                                 ...  \n",
       "5995     China to have largest mobile phone market soon  \n",
       "5996            Jeev shoots 3-under 69; finishes fourth  \n",
       "5997  Hurriyat to wait for response from Vajpayee; M...  \n",
       "5998                  Desperately seeking disinvestment  \n",
       "5999               Brigadier to move court over sacking  \n",
       "\n",
       "[6000 rows x 3 columns]"
      ]
     },
     "execution_count": 8,
     "metadata": {},
     "output_type": "execute_result"
    }
   ],
   "source": [
    "news"
   ]
  },
  {
   "cell_type": "code",
   "execution_count": 9,
   "metadata": {},
   "outputs": [],
   "source": [
    "news.drop('publish_date', axis=1, inplace=True)"
   ]
  },
  {
   "cell_type": "code",
   "execution_count": 10,
   "metadata": {
    "id": "61jfcOihind7"
   },
   "outputs": [
    {
     "data": {
      "text/plain": [
       "headline_category    0\n",
       "headline_text        0\n",
       "dtype: int64"
      ]
     },
     "execution_count": 10,
     "metadata": {},
     "output_type": "execute_result"
    }
   ],
   "source": [
    "news.isna().sum()"
   ]
  },
  {
   "cell_type": "code",
   "execution_count": 11,
   "metadata": {
    "id": "2l_EIuShmobh"
   },
   "outputs": [],
   "source": [
    "news=news.dropna()"
   ]
  },
  {
   "cell_type": "code",
   "execution_count": 12,
   "metadata": {},
   "outputs": [
    {
     "data": {
      "text/plain": [
       "827"
      ]
     },
     "execution_count": 12,
     "metadata": {},
     "output_type": "execute_result"
    }
   ],
   "source": [
    "news.duplicated().sum()"
   ]
  },
  {
   "cell_type": "code",
   "execution_count": 13,
   "metadata": {},
   "outputs": [],
   "source": [
    "news=news.drop_duplicates()"
   ]
  },
  {
   "cell_type": "code",
   "execution_count": 15,
   "metadata": {},
   "outputs": [
    {
     "data": {
      "text/html": [
       "<div>\n",
       "<style scoped>\n",
       "    .dataframe tbody tr th:only-of-type {\n",
       "        vertical-align: middle;\n",
       "    }\n",
       "\n",
       "    .dataframe tbody tr th {\n",
       "        vertical-align: top;\n",
       "    }\n",
       "\n",
       "    .dataframe thead th {\n",
       "        text-align: right;\n",
       "    }\n",
       "</style>\n",
       "<table border=\"1\" class=\"dataframe\">\n",
       "  <thead>\n",
       "    <tr style=\"text-align: right;\">\n",
       "      <th></th>\n",
       "      <th>headline_category</th>\n",
       "      <th>headline_text</th>\n",
       "    </tr>\n",
       "  </thead>\n",
       "  <tbody>\n",
       "    <tr>\n",
       "      <th>0</th>\n",
       "      <td>sports.wwe</td>\n",
       "      <td>win over cena satisfying but defeating underta...</td>\n",
       "    </tr>\n",
       "    <tr>\n",
       "      <th>1</th>\n",
       "      <td>unknown</td>\n",
       "      <td>Status quo will not be disturbed at Ayodhya; s...</td>\n",
       "    </tr>\n",
       "    <tr>\n",
       "      <th>2</th>\n",
       "      <td>unknown</td>\n",
       "      <td>Fissures in Hurriyat over Pak visit</td>\n",
       "    </tr>\n",
       "    <tr>\n",
       "      <th>3</th>\n",
       "      <td>unknown</td>\n",
       "      <td>America's unwanted heading for India?</td>\n",
       "    </tr>\n",
       "    <tr>\n",
       "      <th>4</th>\n",
       "      <td>unknown</td>\n",
       "      <td>For bigwigs; it is destination Goa</td>\n",
       "    </tr>\n",
       "    <tr>\n",
       "      <th>...</th>\n",
       "      <td>...</td>\n",
       "      <td>...</td>\n",
       "    </tr>\n",
       "    <tr>\n",
       "      <th>5995</th>\n",
       "      <td>unknown</td>\n",
       "      <td>China to have largest mobile phone market soon</td>\n",
       "    </tr>\n",
       "    <tr>\n",
       "      <th>5996</th>\n",
       "      <td>unknown</td>\n",
       "      <td>Jeev shoots 3-under 69; finishes fourth</td>\n",
       "    </tr>\n",
       "    <tr>\n",
       "      <th>5997</th>\n",
       "      <td>india</td>\n",
       "      <td>Hurriyat to wait for response from Vajpayee; M...</td>\n",
       "    </tr>\n",
       "    <tr>\n",
       "      <th>5998</th>\n",
       "      <td>business.india-business</td>\n",
       "      <td>Desperately seeking disinvestment</td>\n",
       "    </tr>\n",
       "    <tr>\n",
       "      <th>5999</th>\n",
       "      <td>india</td>\n",
       "      <td>Brigadier to move court over sacking</td>\n",
       "    </tr>\n",
       "  </tbody>\n",
       "</table>\n",
       "<p>5173 rows × 2 columns</p>\n",
       "</div>"
      ],
      "text/plain": [
       "            headline_category  \\\n",
       "0                  sports.wwe   \n",
       "1                     unknown   \n",
       "2                     unknown   \n",
       "3                     unknown   \n",
       "4                     unknown   \n",
       "...                       ...   \n",
       "5995                  unknown   \n",
       "5996                  unknown   \n",
       "5997                    india   \n",
       "5998  business.india-business   \n",
       "5999                    india   \n",
       "\n",
       "                                          headline_text  \n",
       "0     win over cena satisfying but defeating underta...  \n",
       "1     Status quo will not be disturbed at Ayodhya; s...  \n",
       "2                   Fissures in Hurriyat over Pak visit  \n",
       "3                 America's unwanted heading for India?  \n",
       "4                    For bigwigs; it is destination Goa  \n",
       "...                                                 ...  \n",
       "5995     China to have largest mobile phone market soon  \n",
       "5996            Jeev shoots 3-under 69; finishes fourth  \n",
       "5997  Hurriyat to wait for response from Vajpayee; M...  \n",
       "5998                  Desperately seeking disinvestment  \n",
       "5999               Brigadier to move court over sacking  \n",
       "\n",
       "[5173 rows x 2 columns]"
      ]
     },
     "execution_count": 15,
     "metadata": {},
     "output_type": "execute_result"
    }
   ],
   "source": [
    "news"
   ]
  },
  {
   "cell_type": "code",
   "execution_count": 16,
   "metadata": {
    "colab": {
     "base_uri": "https://localhost:8080/",
     "height": 902
    },
    "id": "YKXXeMDxi0GP",
    "outputId": "f1c3f3f7-5e1d-4615-8cea-86649cd3d3d4"
   },
   "outputs": [
    {
     "data": {
      "text/plain": [
       "Text(0.5, 0, 'COUNTS')"
      ]
     },
     "execution_count": 16,
     "metadata": {},
     "output_type": "execute_result"
    },
    {
     "data": {
      "image/png": "[encoded data removed]",
      "text/plain": [
       "<Figure size 864x1080 with 1 Axes>"
      ]
     },
     "metadata": {},
     "output_type": "display_data"
    }
   ],
   "source": [
    "plt.figure(figsize=(12,15))\n",
    "ax=sns.countplot(y=news['headline_category'],palette=\"Set3\")\n",
    "plt.yticks(fontsize=12);\n",
    "plt.ylabel('HEADLINE_CATEGORY', fontsize=20)\n",
    "plt.xlabel('COUNTS',fontsize=15)\n"
   ]
  },
  {
   "cell_type": "markdown",
   "metadata": {},
   "source": [
    "### Here from above graph we can conclude that 80% of things are unknown category so removing that category"
   ]
  },
  {
   "cell_type": "code",
   "execution_count": 17,
   "metadata": {
    "colab": {
     "base_uri": "https://localhost:8080/",
     "height": 902
    },
    "id": "02Mr3qF3i-5_",
    "outputId": "b8901f0c-10a3-47c8-de8a-c5c92dd832e1"
   },
   "outputs": [
    {
     "data": {
      "text/plain": [
       "Text(0.5, 0, 'COUNTS')"
      ]
     },
     "execution_count": 17,
     "metadata": {},
     "output_type": "execute_result"
    },
    {
     "data": {
      "image/png": "[encoded data removed]",
      "text/plain": [
       "<Figure size 720x1080 with 1 Axes>"
      ]
     },
     "metadata": {},
     "output_type": "display_data"
    }
   ],
   "source": [
    "plt.figure(figsize=(10,15))\n",
    "news1=news[news['headline_category']!='unknown']\n",
    "ax=sns.countplot(y=news1['headline_category'],palette=\"Set3\")\n",
    "plt.yticks(fontsize=12);\n",
    "plt.ylabel('HEADLINE_CATEGORY', fontsize=20)\n",
    "plt.xlabel('COUNTS',fontsize=15)"
   ]
  },
  {
   "cell_type": "markdown",
   "metadata": {},
   "source": [
    "### Counting characters"
   ]
  },
  {
   "cell_type": "code",
   "execution_count": 18,
   "metadata": {
    "colab": {
     "base_uri": "https://localhost:8080/",
     "height": 296
    },
    "id": "iWUsP7KdjpmM",
    "outputId": "893c66d6-4671-4637-c8e0-5e531ef8c532"
   },
   "outputs": [
    {
     "data": {
      "text/html": [
       "<div>\n",
       "<style scoped>\n",
       "    .dataframe tbody tr th:only-of-type {\n",
       "        vertical-align: middle;\n",
       "    }\n",
       "\n",
       "    .dataframe tbody tr th {\n",
       "        vertical-align: top;\n",
       "    }\n",
       "\n",
       "    .dataframe thead th {\n",
       "        text-align: right;\n",
       "    }\n",
       "</style>\n",
       "<table border=\"1\" class=\"dataframe\">\n",
       "  <thead>\n",
       "    <tr style=\"text-align: right;\">\n",
       "      <th></th>\n",
       "      <th>headline_text</th>\n",
       "      <th>char_count</th>\n",
       "    </tr>\n",
       "  </thead>\n",
       "  <tbody>\n",
       "    <tr>\n",
       "      <th>0</th>\n",
       "      <td>win over cena satisfying but defeating underta...</td>\n",
       "      <td>69</td>\n",
       "    </tr>\n",
       "    <tr>\n",
       "      <th>1</th>\n",
       "      <td>Status quo will not be disturbed at Ayodhya; s...</td>\n",
       "      <td>58</td>\n",
       "    </tr>\n",
       "    <tr>\n",
       "      <th>2</th>\n",
       "      <td>Fissures in Hurriyat over Pak visit</td>\n",
       "      <td>35</td>\n",
       "    </tr>\n",
       "    <tr>\n",
       "      <th>3</th>\n",
       "      <td>America's unwanted heading for India?</td>\n",
       "      <td>37</td>\n",
       "    </tr>\n",
       "    <tr>\n",
       "      <th>4</th>\n",
       "      <td>For bigwigs; it is destination Goa</td>\n",
       "      <td>34</td>\n",
       "    </tr>\n",
       "  </tbody>\n",
       "</table>\n",
       "</div>"
      ],
      "text/plain": [
       "                                       headline_text  char_count\n",
       "0  win over cena satisfying but defeating underta...          69\n",
       "1  Status quo will not be disturbed at Ayodhya; s...          58\n",
       "2                Fissures in Hurriyat over Pak visit          35\n",
       "3              America's unwanted heading for India?          37\n",
       "4                 For bigwigs; it is destination Goa          34"
      ]
     },
     "execution_count": 18,
     "metadata": {},
     "output_type": "execute_result"
    }
   ],
   "source": [
    "news['char_count'] = news['headline_text'].str.len()\n",
    "news[['headline_text', 'char_count']].head()"
   ]
  },
  {
   "cell_type": "markdown",
   "metadata": {},
   "source": [
    "### Counting words "
   ]
  },
  {
   "cell_type": "code",
   "execution_count": 19,
   "metadata": {
    "colab": {
     "base_uri": "https://localhost:8080/",
     "height": 296
    },
    "id": "HcHLnNL4j0f_",
    "outputId": "df4d3055-333e-4b1d-920b-b0eb85f01ef0"
   },
   "outputs": [
    {
     "data": {
      "text/html": [
       "<div>\n",
       "<style scoped>\n",
       "    .dataframe tbody tr th:only-of-type {\n",
       "        vertical-align: middle;\n",
       "    }\n",
       "\n",
       "    .dataframe tbody tr th {\n",
       "        vertical-align: top;\n",
       "    }\n",
       "\n",
       "    .dataframe thead th {\n",
       "        text-align: right;\n",
       "    }\n",
       "</style>\n",
       "<table border=\"1\" class=\"dataframe\">\n",
       "  <thead>\n",
       "    <tr style=\"text-align: right;\">\n",
       "      <th></th>\n",
       "      <th>headline_text</th>\n",
       "      <th>word_count</th>\n",
       "    </tr>\n",
       "  </thead>\n",
       "  <tbody>\n",
       "    <tr>\n",
       "      <th>0</th>\n",
       "      <td>win over cena satisfying but defeating underta...</td>\n",
       "      <td>10</td>\n",
       "    </tr>\n",
       "    <tr>\n",
       "      <th>1</th>\n",
       "      <td>Status quo will not be disturbed at Ayodhya; s...</td>\n",
       "      <td>10</td>\n",
       "    </tr>\n",
       "    <tr>\n",
       "      <th>2</th>\n",
       "      <td>Fissures in Hurriyat over Pak visit</td>\n",
       "      <td>6</td>\n",
       "    </tr>\n",
       "    <tr>\n",
       "      <th>3</th>\n",
       "      <td>America's unwanted heading for India?</td>\n",
       "      <td>5</td>\n",
       "    </tr>\n",
       "    <tr>\n",
       "      <th>4</th>\n",
       "      <td>For bigwigs; it is destination Goa</td>\n",
       "      <td>6</td>\n",
       "    </tr>\n",
       "  </tbody>\n",
       "</table>\n",
       "</div>"
      ],
      "text/plain": [
       "                                       headline_text  word_count\n",
       "0  win over cena satisfying but defeating underta...          10\n",
       "1  Status quo will not be disturbed at Ayodhya; s...          10\n",
       "2                Fissures in Hurriyat over Pak visit           6\n",
       "3              America's unwanted heading for India?           5\n",
       "4                 For bigwigs; it is destination Goa           6"
      ]
     },
     "execution_count": 19,
     "metadata": {},
     "output_type": "execute_result"
    }
   ],
   "source": [
    "news['word_count'] = news['headline_text'].apply(lambda x: len(str(x).split(\" \")))\n",
    "news[['headline_text','word_count']].head()"
   ]
  },
  {
   "cell_type": "markdown",
   "metadata": {},
   "source": [
    "### Seeing average word length"
   ]
  },
  {
   "cell_type": "code",
   "execution_count": 20,
   "metadata": {
    "colab": {
     "base_uri": "https://localhost:8080/",
     "height": 296
    },
    "id": "RJvLFcMJkOSe",
    "outputId": "0f875630-667a-4257-8df9-7fc756965639"
   },
   "outputs": [
    {
     "data": {
      "text/html": [
       "<div>\n",
       "<style scoped>\n",
       "    .dataframe tbody tr th:only-of-type {\n",
       "        vertical-align: middle;\n",
       "    }\n",
       "\n",
       "    .dataframe tbody tr th {\n",
       "        vertical-align: top;\n",
       "    }\n",
       "\n",
       "    .dataframe thead th {\n",
       "        text-align: right;\n",
       "    }\n",
       "</style>\n",
       "<table border=\"1\" class=\"dataframe\">\n",
       "  <thead>\n",
       "    <tr style=\"text-align: right;\">\n",
       "      <th></th>\n",
       "      <th>headline_text</th>\n",
       "      <th>avg_word</th>\n",
       "    </tr>\n",
       "  </thead>\n",
       "  <tbody>\n",
       "    <tr>\n",
       "      <th>0</th>\n",
       "      <td>win over cena satisfying but defeating underta...</td>\n",
       "      <td>6.000000</td>\n",
       "    </tr>\n",
       "    <tr>\n",
       "      <th>1</th>\n",
       "      <td>Status quo will not be disturbed at Ayodhya; s...</td>\n",
       "      <td>4.900000</td>\n",
       "    </tr>\n",
       "    <tr>\n",
       "      <th>2</th>\n",
       "      <td>Fissures in Hurriyat over Pak visit</td>\n",
       "      <td>5.000000</td>\n",
       "    </tr>\n",
       "    <tr>\n",
       "      <th>3</th>\n",
       "      <td>America's unwanted heading for India?</td>\n",
       "      <td>6.600000</td>\n",
       "    </tr>\n",
       "    <tr>\n",
       "      <th>4</th>\n",
       "      <td>For bigwigs; it is destination Goa</td>\n",
       "      <td>4.833333</td>\n",
       "    </tr>\n",
       "    <tr>\n",
       "      <th>...</th>\n",
       "      <td>...</td>\n",
       "      <td>...</td>\n",
       "    </tr>\n",
       "    <tr>\n",
       "      <th>5995</th>\n",
       "      <td>China to have largest mobile phone market soon</td>\n",
       "      <td>4.875000</td>\n",
       "    </tr>\n",
       "    <tr>\n",
       "      <th>5996</th>\n",
       "      <td>Jeev shoots 3-under 69; finishes fourth</td>\n",
       "      <td>5.666667</td>\n",
       "    </tr>\n",
       "    <tr>\n",
       "      <th>5997</th>\n",
       "      <td>Hurriyat to wait for response from Vajpayee; M...</td>\n",
       "      <td>5.875000</td>\n",
       "    </tr>\n",
       "    <tr>\n",
       "      <th>5998</th>\n",
       "      <td>Desperately seeking disinvestment</td>\n",
       "      <td>10.333333</td>\n",
       "    </tr>\n",
       "    <tr>\n",
       "      <th>5999</th>\n",
       "      <td>Brigadier to move court over sacking</td>\n",
       "      <td>5.166667</td>\n",
       "    </tr>\n",
       "  </tbody>\n",
       "</table>\n",
       "<p>5173 rows × 2 columns</p>\n",
       "</div>"
      ],
      "text/plain": [
       "                                          headline_text   avg_word\n",
       "0     win over cena satisfying but defeating underta...   6.000000\n",
       "1     Status quo will not be disturbed at Ayodhya; s...   4.900000\n",
       "2                   Fissures in Hurriyat over Pak visit   5.000000\n",
       "3                 America's unwanted heading for India?   6.600000\n",
       "4                    For bigwigs; it is destination Goa   4.833333\n",
       "...                                                 ...        ...\n",
       "5995     China to have largest mobile phone market soon   4.875000\n",
       "5996            Jeev shoots 3-under 69; finishes fourth   5.666667\n",
       "5997  Hurriyat to wait for response from Vajpayee; M...   5.875000\n",
       "5998                  Desperately seeking disinvestment  10.333333\n",
       "5999               Brigadier to move court over sacking   5.166667\n",
       "\n",
       "[5173 rows x 2 columns]"
      ]
     },
     "execution_count": 20,
     "metadata": {},
     "output_type": "execute_result"
    }
   ],
   "source": [
    "def avg_word(sentence):\n",
    "    words = sentence.split()\n",
    "    return (sum(len(word) for word in words)/len(words))\n",
    "\n",
    "news['avg_word'] = news['headline_text'].apply(lambda x: avg_word(x))\n",
    "news[['headline_text','avg_word']]"
   ]
  },
  {
   "cell_type": "code",
   "execution_count": 22,
   "metadata": {
    "id": "tFP1ivhHkqzL"
   },
   "outputs": [],
   "source": [
    "from matplotlib import rcParams\n",
    "from wordcloud import WordCloud, STOPWORDS"
   ]
  },
  {
   "cell_type": "code",
   "execution_count": 23,
   "metadata": {
    "colab": {
     "base_uri": "https://localhost:8080/",
     "height": 67
    },
    "id": "B6XpcAHdltD4",
    "outputId": "740b443e-0412-4f97-ff48-781e66d39c75"
   },
   "outputs": [
    {
     "name": "stderr",
     "output_type": "stream",
     "text": [
      "[nltk_data] Downloading package stopwords to\n",
      "[nltk_data]     C:\\Users\\Hp\\AppData\\Roaming\\nltk_data...\n",
      "[nltk_data]   Package stopwords is already up-to-date!\n"
     ]
    },
    {
     "data": {
      "text/plain": [
       "True"
      ]
     },
     "execution_count": 23,
     "metadata": {},
     "output_type": "execute_result"
    }
   ],
   "source": [
    "  >>> import nltk\n",
    "  >>> nltk.download('stopwords')"
   ]
  },
  {
   "cell_type": "markdown",
   "metadata": {},
   "source": [
    "### Calculating Sopwords "
   ]
  },
  {
   "cell_type": "code",
   "execution_count": 26,
   "metadata": {},
   "outputs": [],
   "source": [
    "from nltk.corpus import stopwords"
   ]
  },
  {
   "cell_type": "code",
   "execution_count": 28,
   "metadata": {
    "colab": {
     "base_uri": "https://localhost:8080/",
     "height": 296
    },
    "id": "wKNjqf76lyNu",
    "outputId": "ef52d66c-f2c0-45bf-feda-8e4c65bc27fc"
   },
   "outputs": [
    {
     "data": {
      "text/html": [
       "<div>\n",
       "<style scoped>\n",
       "    .dataframe tbody tr th:only-of-type {\n",
       "        vertical-align: middle;\n",
       "    }\n",
       "\n",
       "    .dataframe tbody tr th {\n",
       "        vertical-align: top;\n",
       "    }\n",
       "\n",
       "    .dataframe thead th {\n",
       "        text-align: right;\n",
       "    }\n",
       "</style>\n",
       "<table border=\"1\" class=\"dataframe\">\n",
       "  <thead>\n",
       "    <tr style=\"text-align: right;\">\n",
       "      <th></th>\n",
       "      <th>headline_text</th>\n",
       "      <th>stopwords</th>\n",
       "    </tr>\n",
       "  </thead>\n",
       "  <tbody>\n",
       "    <tr>\n",
       "      <th>0</th>\n",
       "      <td>win over cena satisfying but defeating underta...</td>\n",
       "      <td>2</td>\n",
       "    </tr>\n",
       "    <tr>\n",
       "      <th>1</th>\n",
       "      <td>Status quo will not be disturbed at Ayodhya; s...</td>\n",
       "      <td>4</td>\n",
       "    </tr>\n",
       "    <tr>\n",
       "      <th>2</th>\n",
       "      <td>Fissures in Hurriyat over Pak visit</td>\n",
       "      <td>2</td>\n",
       "    </tr>\n",
       "    <tr>\n",
       "      <th>3</th>\n",
       "      <td>America's unwanted heading for India?</td>\n",
       "      <td>1</td>\n",
       "    </tr>\n",
       "    <tr>\n",
       "      <th>4</th>\n",
       "      <td>For bigwigs; it is destination Goa</td>\n",
       "      <td>2</td>\n",
       "    </tr>\n",
       "  </tbody>\n",
       "</table>\n",
       "</div>"
      ],
      "text/plain": [
       "                                       headline_text  stopwords\n",
       "0  win over cena satisfying but defeating underta...          2\n",
       "1  Status quo will not be disturbed at Ayodhya; s...          4\n",
       "2                Fissures in Hurriyat over Pak visit          2\n",
       "3              America's unwanted heading for India?          1\n",
       "4                 For bigwigs; it is destination Goa          2"
      ]
     },
     "execution_count": 28,
     "metadata": {},
     "output_type": "execute_result"
    }
   ],
   "source": [
    "stop = stopwords.words('english')\n",
    "\n",
    "news['stopwords'] = news['headline_text'].apply(lambda x: len([x for x in x.split() if x in stop]))\n",
    "news[['headline_text','stopwords']].head()"
   ]
  },
  {
   "cell_type": "markdown",
   "metadata": {},
   "source": [
    "### Number of Special characters in each statements "
   ]
  },
  {
   "cell_type": "code",
   "execution_count": 29,
   "metadata": {
    "colab": {
     "base_uri": "https://localhost:8080/",
     "height": 296
    },
    "id": "0HMFoqiGl3P5",
    "outputId": "ab5696bd-ddb7-4f43-90c1-abcce1c14da1"
   },
   "outputs": [
    {
     "data": {
      "text/html": [
       "<div>\n",
       "<style scoped>\n",
       "    .dataframe tbody tr th:only-of-type {\n",
       "        vertical-align: middle;\n",
       "    }\n",
       "\n",
       "    .dataframe tbody tr th {\n",
       "        vertical-align: top;\n",
       "    }\n",
       "\n",
       "    .dataframe thead th {\n",
       "        text-align: right;\n",
       "    }\n",
       "</style>\n",
       "<table border=\"1\" class=\"dataframe\">\n",
       "  <thead>\n",
       "    <tr style=\"text-align: right;\">\n",
       "      <th></th>\n",
       "      <th>headline_text</th>\n",
       "      <th>hastags</th>\n",
       "    </tr>\n",
       "  </thead>\n",
       "  <tbody>\n",
       "    <tr>\n",
       "      <th>0</th>\n",
       "      <td>win over cena satisfying but defeating underta...</td>\n",
       "      <td>0</td>\n",
       "    </tr>\n",
       "    <tr>\n",
       "      <th>1</th>\n",
       "      <td>Status quo will not be disturbed at Ayodhya; s...</td>\n",
       "      <td>0</td>\n",
       "    </tr>\n",
       "    <tr>\n",
       "      <th>2</th>\n",
       "      <td>Fissures in Hurriyat over Pak visit</td>\n",
       "      <td>0</td>\n",
       "    </tr>\n",
       "    <tr>\n",
       "      <th>3</th>\n",
       "      <td>America's unwanted heading for India?</td>\n",
       "      <td>0</td>\n",
       "    </tr>\n",
       "    <tr>\n",
       "      <th>4</th>\n",
       "      <td>For bigwigs; it is destination Goa</td>\n",
       "      <td>0</td>\n",
       "    </tr>\n",
       "  </tbody>\n",
       "</table>\n",
       "</div>"
      ],
      "text/plain": [
       "                                       headline_text  hastags\n",
       "0  win over cena satisfying but defeating underta...        0\n",
       "1  Status quo will not be disturbed at Ayodhya; s...        0\n",
       "2                Fissures in Hurriyat over Pak visit        0\n",
       "3              America's unwanted heading for India?        0\n",
       "4                 For bigwigs; it is destination Goa        0"
      ]
     },
     "execution_count": 29,
     "metadata": {},
     "output_type": "execute_result"
    }
   ],
   "source": [
    "news['hastags'] = news['headline_text'].apply(lambda x: len([x for x in x.split() if x.startswith('#')]))\n",
    "news[['headline_text','hastags']].head()\n"
   ]
  },
  {
   "cell_type": "markdown",
   "metadata": {},
   "source": [
    "### Number of numerics in each statements"
   ]
  },
  {
   "cell_type": "code",
   "execution_count": 30,
   "metadata": {
    "colab": {
     "base_uri": "https://localhost:8080/",
     "height": 296
    },
    "id": "r9gdzvMLmEBm",
    "outputId": "aae57b41-86b7-4805-a3c9-9c60790f460f"
   },
   "outputs": [
    {
     "data": {
      "text/html": [
       "<div>\n",
       "<style scoped>\n",
       "    .dataframe tbody tr th:only-of-type {\n",
       "        vertical-align: middle;\n",
       "    }\n",
       "\n",
       "    .dataframe tbody tr th {\n",
       "        vertical-align: top;\n",
       "    }\n",
       "\n",
       "    .dataframe thead th {\n",
       "        text-align: right;\n",
       "    }\n",
       "</style>\n",
       "<table border=\"1\" class=\"dataframe\">\n",
       "  <thead>\n",
       "    <tr style=\"text-align: right;\">\n",
       "      <th></th>\n",
       "      <th>headline_text</th>\n",
       "      <th>numerics</th>\n",
       "    </tr>\n",
       "  </thead>\n",
       "  <tbody>\n",
       "    <tr>\n",
       "      <th>0</th>\n",
       "      <td>win over cena satisfying but defeating underta...</td>\n",
       "      <td>0</td>\n",
       "    </tr>\n",
       "    <tr>\n",
       "      <th>1</th>\n",
       "      <td>Status quo will not be disturbed at Ayodhya; s...</td>\n",
       "      <td>0</td>\n",
       "    </tr>\n",
       "    <tr>\n",
       "      <th>2</th>\n",
       "      <td>Fissures in Hurriyat over Pak visit</td>\n",
       "      <td>0</td>\n",
       "    </tr>\n",
       "    <tr>\n",
       "      <th>3</th>\n",
       "      <td>America's unwanted heading for India?</td>\n",
       "      <td>0</td>\n",
       "    </tr>\n",
       "    <tr>\n",
       "      <th>4</th>\n",
       "      <td>For bigwigs; it is destination Goa</td>\n",
       "      <td>0</td>\n",
       "    </tr>\n",
       "  </tbody>\n",
       "</table>\n",
       "</div>"
      ],
      "text/plain": [
       "                                       headline_text  numerics\n",
       "0  win over cena satisfying but defeating underta...         0\n",
       "1  Status quo will not be disturbed at Ayodhya; s...         0\n",
       "2                Fissures in Hurriyat over Pak visit         0\n",
       "3              America's unwanted heading for India?         0\n",
       "4                 For bigwigs; it is destination Goa         0"
      ]
     },
     "execution_count": 30,
     "metadata": {},
     "output_type": "execute_result"
    }
   ],
   "source": [
    "news['numerics'] = news['headline_text'].apply(lambda x: len([x for x in x.split() if x.isdigit()]))\n",
    "news[['headline_text','numerics']].head()"
   ]
  },
  {
   "cell_type": "code",
   "execution_count": 31,
   "metadata": {
    "colab": {
     "base_uri": "https://localhost:8080/",
     "height": 296
    },
    "id": "mDnjND73mK3O",
    "outputId": "689efd29-a989-4045-bd7f-d76dc5fcdfd3"
   },
   "outputs": [
    {
     "data": {
      "text/html": [
       "<div>\n",
       "<style scoped>\n",
       "    .dataframe tbody tr th:only-of-type {\n",
       "        vertical-align: middle;\n",
       "    }\n",
       "\n",
       "    .dataframe tbody tr th {\n",
       "        vertical-align: top;\n",
       "    }\n",
       "\n",
       "    .dataframe thead th {\n",
       "        text-align: right;\n",
       "    }\n",
       "</style>\n",
       "<table border=\"1\" class=\"dataframe\">\n",
       "  <thead>\n",
       "    <tr style=\"text-align: right;\">\n",
       "      <th></th>\n",
       "      <th>headline_text</th>\n",
       "      <th>upper</th>\n",
       "    </tr>\n",
       "  </thead>\n",
       "  <tbody>\n",
       "    <tr>\n",
       "      <th>0</th>\n",
       "      <td>win over cena satisfying but defeating underta...</td>\n",
       "      <td>0</td>\n",
       "    </tr>\n",
       "    <tr>\n",
       "      <th>1</th>\n",
       "      <td>Status quo will not be disturbed at Ayodhya; s...</td>\n",
       "      <td>0</td>\n",
       "    </tr>\n",
       "    <tr>\n",
       "      <th>2</th>\n",
       "      <td>Fissures in Hurriyat over Pak visit</td>\n",
       "      <td>0</td>\n",
       "    </tr>\n",
       "    <tr>\n",
       "      <th>3</th>\n",
       "      <td>America's unwanted heading for India?</td>\n",
       "      <td>0</td>\n",
       "    </tr>\n",
       "    <tr>\n",
       "      <th>4</th>\n",
       "      <td>For bigwigs; it is destination Goa</td>\n",
       "      <td>0</td>\n",
       "    </tr>\n",
       "  </tbody>\n",
       "</table>\n",
       "</div>"
      ],
      "text/plain": [
       "                                       headline_text  upper\n",
       "0  win over cena satisfying but defeating underta...      0\n",
       "1  Status quo will not be disturbed at Ayodhya; s...      0\n",
       "2                Fissures in Hurriyat over Pak visit      0\n",
       "3              America's unwanted heading for India?      0\n",
       "4                 For bigwigs; it is destination Goa      0"
      ]
     },
     "execution_count": 31,
     "metadata": {},
     "output_type": "execute_result"
    }
   ],
   "source": [
    "news['upper'] = news['headline_text'].apply(lambda x: len([x for x in x.split() if x.isupper()]))\n",
    "news[['headline_text','upper']].head()"
   ]
  },
  {
   "cell_type": "markdown",
   "metadata": {},
   "source": [
    "### Uppercase words"
   ]
  },
  {
   "cell_type": "code",
   "execution_count": 32,
   "metadata": {
    "colab": {
     "base_uri": "https://localhost:8080/",
     "height": 218
    },
    "id": "N_6aavXvmR3Y",
    "outputId": "0a7b553f-1407-4b17-b466-007292357d7c"
   },
   "outputs": [
    {
     "data": {
      "text/plain": [
       "0    win over cena satisfying but defeating underta...\n",
       "1    status quo will not be disturbed at ayodhya; s...\n",
       "2                  fissures in hurriyat over pak visit\n",
       "3                america's unwanted heading for india?\n",
       "4                   for bigwigs; it is destination goa\n",
       "Name: headline_text, dtype: object"
      ]
     },
     "execution_count": 32,
     "metadata": {},
     "output_type": "execute_result"
    }
   ],
   "source": [
    "news['headline_text'] = news['headline_text'].apply(lambda x: \" \".join(x.lower() for x in x.split()))\n",
    "news['headline_text'].head()"
   ]
  },
  {
   "cell_type": "markdown",
   "metadata": {},
   "source": [
    "### Removing punctuations "
   ]
  },
  {
   "cell_type": "code",
   "execution_count": 33,
   "metadata": {
    "colab": {
     "base_uri": "https://localhost:8080/",
     "height": 218
    },
    "id": "qqCB8y2xmcvY",
    "outputId": "fdbc348a-9a4b-4d6d-f9f5-f88b2adb631c"
   },
   "outputs": [
    {
     "data": {
      "text/plain": [
       "0    win over cena satisfying but defeating underta...\n",
       "1    status quo will not be disturbed at ayodhya sa...\n",
       "2                  fissures in hurriyat over pak visit\n",
       "3                  americas unwanted heading for india\n",
       "4                    for bigwigs it is destination goa\n",
       "Name: headline_text, dtype: object"
      ]
     },
     "execution_count": 33,
     "metadata": {},
     "output_type": "execute_result"
    }
   ],
   "source": [
    "news['headline_text'] = news['headline_text'].str.replace('[^\\w\\s]','')\n",
    "news['headline_text'].head()"
   ]
  },
  {
   "cell_type": "markdown",
   "metadata": {},
   "source": [
    "### Removing Stopwords"
   ]
  },
  {
   "cell_type": "code",
   "execution_count": 34,
   "metadata": {
    "colab": {
     "base_uri": "https://localhost:8080/",
     "height": 218
    },
    "id": "vCqdsbnym5uq",
    "outputId": "4926f19a-2a09-457b-acb4-e9f663ef687a"
   },
   "outputs": [
    {
     "data": {
      "text/plain": [
       "0    win cena satisfying defeating undertaker bigge...\n",
       "1           status quo disturbed ayodhya says vajpayee\n",
       "2                          fissures hurriyat pak visit\n",
       "3                      americas unwanted heading india\n",
       "4                              bigwigs destination goa\n",
       "Name: headline_text, dtype: object"
      ]
     },
     "execution_count": 34,
     "metadata": {},
     "output_type": "execute_result"
    }
   ],
   "source": [
    "stop = stopwords.words('english')\n",
    "news['headline_text'] = news['headline_text'].apply(\n",
    "    lambda x: \" \".join(x for x in x.split() if x not in stop))\n",
    "news['headline_text'].head()"
   ]
  },
  {
   "cell_type": "markdown",
   "metadata": {},
   "source": [
    "### Removing common words"
   ]
  },
  {
   "cell_type": "code",
   "execution_count": 35,
   "metadata": {
    "colab": {
     "base_uri": "https://localhost:8080/",
     "height": 202
    },
    "id": "iLK_nHehnUOo",
    "outputId": "ae6cc6e4-0c82-4b1f-faae-8a56f7e9b7cc"
   },
   "outputs": [
    {
     "data": {
      "text/plain": [
       "govt      171\n",
       "india     137\n",
       "new       101\n",
       "may        69\n",
       "us         66\n",
       "cong       66\n",
       "police     65\n",
       "cm         64\n",
       "get        62\n",
       "bjp        60\n",
       "dtype: int64"
      ]
     },
     "execution_count": 35,
     "metadata": {},
     "output_type": "execute_result"
    }
   ],
   "source": [
    "freq = pd.Series(' '.join(news['headline_text']).split()).value_counts()[:10]\n",
    "freq"
   ]
  },
  {
   "cell_type": "markdown",
   "metadata": {},
   "source": [
    "### Removing rare words "
   ]
  },
  {
   "cell_type": "code",
   "execution_count": 36,
   "metadata": {
    "colab": {
     "base_uri": "https://localhost:8080/",
     "height": 202
    },
    "id": "jXGjKqqmnabQ",
    "outputId": "ffaad23d-6bf2-4fcb-96e4-8a8ef216e630"
   },
   "outputs": [
    {
     "data": {
      "text/plain": [
       "emperor         1\n",
       "fragile         1\n",
       "snuffed         1\n",
       "musically       1\n",
       "thehelka        1\n",
       "worship         1\n",
       "sensible        1\n",
       "renuka          1\n",
       "loadshedding    1\n",
       "sensory         1\n",
       "dtype: int64"
      ]
     },
     "execution_count": 36,
     "metadata": {},
     "output_type": "execute_result"
    }
   ],
   "source": [
    "freq = pd.Series(' '.join(news['headline_text']).split()).value_counts()[-10:]\n",
    "freq"
   ]
  },
  {
   "cell_type": "code",
   "execution_count": 37,
   "metadata": {
    "colab": {
     "base_uri": "https://localhost:8080/",
     "height": 218
    },
    "id": "V21mhWjdnfwV",
    "outputId": "9342718a-d894-4084-c42c-744199e439b1"
   },
   "outputs": [
    {
     "data": {
      "text/plain": [
       "0       win cent satisfying defeating undertaken bigge...\n",
       "1              status que disturbed ayodhya says vajpayee\n",
       "2                             fissures hurriyat pay visit\n",
       "3                         american unwanted heading india\n",
       "4                                  bigwigs destination go\n",
       "                              ...                        \n",
       "5995               china largest mobile phone market soon\n",
       "5996                 been shoots under 69 finished fourth\n",
       "5997            hurriyat wait response vajpayee musharraf\n",
       "5998                    desperately seeking disinvestment\n",
       "5999                         brigadier move court packing\n",
       "Name: headline_text, Length: 5173, dtype: object"
      ]
     },
     "execution_count": 37,
     "metadata": {},
     "output_type": "execute_result"
    }
   ],
   "source": [
    "news['headline_text'].apply(lambda x: str(TextBlob(x).correct()))"
   ]
  },
  {
   "cell_type": "code",
   "execution_count": 38,
   "metadata": {
    "colab": {
     "base_uri": "https://localhost:8080/",
     "height": 67
    },
    "id": "nwyImyNWo40n",
    "outputId": "91f40a76-e8c2-48df-96dd-c37dea314aec"
   },
   "outputs": [
    {
     "name": "stderr",
     "output_type": "stream",
     "text": [
      "[nltk_data] Downloading package punkt to\n",
      "[nltk_data]     C:\\Users\\Hp\\AppData\\Roaming\\nltk_data...\n",
      "[nltk_data]   Unzipping tokenizers\\punkt.zip.\n"
     ]
    },
    {
     "data": {
      "text/plain": [
       "True"
      ]
     },
     "execution_count": 38,
     "metadata": {},
     "output_type": "execute_result"
    }
   ],
   "source": [
    "nltk.download('punkt')"
   ]
  },
  {
   "cell_type": "markdown",
   "metadata": {},
   "source": [
    "### Tokenization "
   ]
  },
  {
   "cell_type": "code",
   "execution_count": 50,
   "metadata": {
    "colab": {
     "base_uri": "https://localhost:8080/",
     "height": 54
    },
    "id": "SqJ6DXnkn-xY",
    "outputId": "a2b27784-6706-44e3-df09-857819d1b3e7"
   },
   "outputs": [
    {
     "data": {
      "text/plain": [
       "WordList(['0', 'win', 'cena', 'satisfying', 'defeating', 'undertaker', 'bigge', '1', 'status', 'quo', 'disturbed', 'ayodhya', 'says', 'vajpayee', '2', 'fissures', 'hurriyat', 'pak', 'visit', '3', 'americas', 'unwanted', 'heading', 'india', '4', 'bigwigs', 'destination', 'goa', '5995', 'china', 'largest', 'mobile', 'phone', 'market', 'soon', '5996', 'jeev', 'shoots', '3under', '69', 'finishes', 'fourth', '5997', 'hurriyat', 'wait', 'response', 'vajpayee', 'musharraf', '5998', 'desperately', 'seeking', 'disinvestment', '5999', 'brigadier', 'move', 'court', 'sacking', 'Name', 'headline_text', 'Length', '5173', 'dtype', 'object'])"
      ]
     },
     "execution_count": 50,
     "metadata": {},
     "output_type": "execute_result"
    }
   ],
   "source": [
    "TextBlob(str(news['headline_text'])).words"
   ]
  },
  {
   "cell_type": "markdown",
   "metadata": {},
   "source": [
    "### Stemming"
   ]
  },
  {
   "cell_type": "code",
   "execution_count": 40,
   "metadata": {
    "id": "mxHG-VbgpGIw"
   },
   "outputs": [],
   "source": [
    "from nltk.stem import PorterStemmer"
   ]
  },
  {
   "cell_type": "code",
   "execution_count": 51,
   "metadata": {
    "colab": {
     "base_uri": "https://localhost:8080/",
     "height": 218
    },
    "id": "G4yGVm5KpJ3R",
    "outputId": "8d63f487-afe0-46b1-f7c7-6412caa33272"
   },
   "outputs": [
    {
     "data": {
      "text/plain": [
       "0       win cena satisfi defeat undertak bigger roman ...\n",
       "1                   statu quo disturb ayodhya say vajpaye\n",
       "2                               fissur hurriyat pak visit\n",
       "3                               america unwant head india\n",
       "4                                       bigwig destin goa\n",
       "                              ...                        \n",
       "5995                china largest mobil phone market soon\n",
       "5996                   jeev shoot 3under 69 finish fourth\n",
       "5997              hurriyat wait respons vajpaye musharraf\n",
       "5998                                desper seek disinvest\n",
       "5999                              brigadi move court sack\n",
       "Name: headline_text, Length: 5173, dtype: object"
      ]
     },
     "execution_count": 51,
     "metadata": {},
     "output_type": "execute_result"
    }
   ],
   "source": [
    "st = PorterStemmer()\n",
    "news['headline_text'].apply(lambda x: \" \".join([st.stem(word) for word in x.split()]))"
   ]
  },
  {
   "cell_type": "markdown",
   "metadata": {},
   "source": [
    "### Trigram"
   ]
  },
  {
   "cell_type": "code",
   "execution_count": 52,
   "metadata": {
    "colab": {
     "base_uri": "https://localhost:8080/",
     "height": 521
    },
    "id": "NqUjk1LeoN9k",
    "outputId": "95299cd9-6142-4c1a-c400-bfc7cabf6848"
   },
   "outputs": [
    {
     "data": {
      "text/plain": [
       "[WordList(['1', 'status', 'quo']),\n",
       " WordList(['status', 'quo', 'disturbed']),\n",
       " WordList(['quo', 'disturbed', 'ayodhya']),\n",
       " WordList(['disturbed', 'ayodhya', 'says']),\n",
       " WordList(['ayodhya', 'says', 'vajpayee']),\n",
       " WordList(['says', 'vajpayee', '2']),\n",
       " WordList(['vajpayee', '2', 'fissures']),\n",
       " WordList(['2', 'fissures', 'hurriyat']),\n",
       " WordList(['fissures', 'hurriyat', 'pak']),\n",
       " WordList(['hurriyat', 'pak', 'visit']),\n",
       " WordList(['pak', 'visit', '3']),\n",
       " WordList(['visit', '3', 'americas']),\n",
       " WordList(['3', 'americas', 'unwanted']),\n",
       " WordList(['americas', 'unwanted', 'heading']),\n",
       " WordList(['unwanted', 'heading', 'india']),\n",
       " WordList(['heading', 'india', '4']),\n",
       " WordList(['india', '4', 'bigwigs']),\n",
       " WordList(['4', 'bigwigs', 'destination']),\n",
       " WordList(['bigwigs', 'destination', 'goa']),\n",
       " WordList(['destination', 'goa', '5']),\n",
       " WordList(['goa', '5', 'extra']),\n",
       " WordList(['5', 'extra', 'buses']),\n",
       " WordList(['extra', 'buses', 'clear']),\n",
       " WordList(['buses', 'clear', 'tourist']),\n",
       " WordList(['clear', 'tourist', 'traffic']),\n",
       " WordList(['tourist', 'traffic', '5995']),\n",
       " WordList(['traffic', '5995', 'china']),\n",
       " WordList(['5995', 'china', 'largest']),\n",
       " WordList(['china', 'largest', 'mobile']),\n",
       " WordList(['largest', 'mobile', 'phone'])]"
      ]
     },
     "execution_count": 52,
     "metadata": {},
     "output_type": "execute_result"
    }
   ],
   "source": [
    "T3=TextBlob(str(news['headline_text'][1:])).ngrams(3)\n",
    "T3[:30]"
   ]
  },
  {
   "cell_type": "markdown",
   "metadata": {},
   "source": [
    "### Term frequency"
   ]
  },
  {
   "cell_type": "code",
   "execution_count": 53,
   "metadata": {
    "colab": {
     "base_uri": "https://localhost:8080/",
     "height": 402
    },
    "id": "dNL_glskoTW_",
    "outputId": "d8a967b6-2c31-421e-9a36-06b0010dc305"
   },
   "outputs": [
    {
     "data": {
      "text/html": [
       "<div>\n",
       "<style scoped>\n",
       "    .dataframe tbody tr th:only-of-type {\n",
       "        vertical-align: middle;\n",
       "    }\n",
       "\n",
       "    .dataframe tbody tr th {\n",
       "        vertical-align: top;\n",
       "    }\n",
       "\n",
       "    .dataframe thead th {\n",
       "        text-align: right;\n",
       "    }\n",
       "</style>\n",
       "<table border=\"1\" class=\"dataframe\">\n",
       "  <thead>\n",
       "    <tr style=\"text-align: right;\">\n",
       "      <th></th>\n",
       "      <th>words</th>\n",
       "      <th>tf</th>\n",
       "    </tr>\n",
       "  </thead>\n",
       "  <tbody>\n",
       "    <tr>\n",
       "      <th>0</th>\n",
       "      <td>vajpayee</td>\n",
       "      <td>17.0</td>\n",
       "    </tr>\n",
       "    <tr>\n",
       "      <th>1</th>\n",
       "      <td>status</td>\n",
       "      <td>7.0</td>\n",
       "    </tr>\n",
       "    <tr>\n",
       "      <th>2</th>\n",
       "      <td>quo</td>\n",
       "      <td>1.0</td>\n",
       "    </tr>\n",
       "    <tr>\n",
       "      <th>3</th>\n",
       "      <td>says</td>\n",
       "      <td>59.0</td>\n",
       "    </tr>\n",
       "    <tr>\n",
       "      <th>4</th>\n",
       "      <td>disturbed</td>\n",
       "      <td>1.0</td>\n",
       "    </tr>\n",
       "    <tr>\n",
       "      <th>...</th>\n",
       "      <td>...</td>\n",
       "      <td>...</td>\n",
       "    </tr>\n",
       "    <tr>\n",
       "      <th>8833</th>\n",
       "      <td>finishes</td>\n",
       "      <td>1.0</td>\n",
       "    </tr>\n",
       "    <tr>\n",
       "      <th>8834</th>\n",
       "      <td>shoots</td>\n",
       "      <td>1.0</td>\n",
       "    </tr>\n",
       "    <tr>\n",
       "      <th>8835</th>\n",
       "      <td>69</td>\n",
       "      <td>1.0</td>\n",
       "    </tr>\n",
       "    <tr>\n",
       "      <th>8836</th>\n",
       "      <td>desperately</td>\n",
       "      <td>1.0</td>\n",
       "    </tr>\n",
       "    <tr>\n",
       "      <th>8837</th>\n",
       "      <td>brigadier</td>\n",
       "      <td>1.0</td>\n",
       "    </tr>\n",
       "  </tbody>\n",
       "</table>\n",
       "<p>8838 rows × 2 columns</p>\n",
       "</div>"
      ],
      "text/plain": [
       "            words    tf\n",
       "0        vajpayee  17.0\n",
       "1          status   7.0\n",
       "2             quo   1.0\n",
       "3            says  59.0\n",
       "4       disturbed   1.0\n",
       "...           ...   ...\n",
       "8833     finishes   1.0\n",
       "8834       shoots   1.0\n",
       "8835           69   1.0\n",
       "8836  desperately   1.0\n",
       "8837    brigadier   1.0\n",
       "\n",
       "[8838 rows x 2 columns]"
      ]
     },
     "execution_count": 53,
     "metadata": {},
     "output_type": "execute_result"
    }
   ],
   "source": [
    "tf = (news['headline_text'][1:]).apply(lambda x: pd.value_counts(x.split(\" \"))).sum(axis = 0).reset_index()\n",
    "tf.columns = ['words','tf']\n",
    "tf"
   ]
  },
  {
   "cell_type": "code",
   "execution_count": 54,
   "metadata": {
    "colab": {
     "base_uri": "https://localhost:8080/",
     "height": 402
    },
    "id": "7pgaiGJcobrg",
    "outputId": "944e9988-36d1-4bbd-bc50-ddfde0b256e1"
   },
   "outputs": [
    {
     "data": {
      "text/html": [
       "<div>\n",
       "<style scoped>\n",
       "    .dataframe tbody tr th:only-of-type {\n",
       "        vertical-align: middle;\n",
       "    }\n",
       "\n",
       "    .dataframe tbody tr th {\n",
       "        vertical-align: top;\n",
       "    }\n",
       "\n",
       "    .dataframe thead th {\n",
       "        text-align: right;\n",
       "    }\n",
       "</style>\n",
       "<table border=\"1\" class=\"dataframe\">\n",
       "  <thead>\n",
       "    <tr style=\"text-align: right;\">\n",
       "      <th></th>\n",
       "      <th>words</th>\n",
       "      <th>tf</th>\n",
       "      <th>idf</th>\n",
       "    </tr>\n",
       "  </thead>\n",
       "  <tbody>\n",
       "    <tr>\n",
       "      <th>0</th>\n",
       "      <td>vajpayee</td>\n",
       "      <td>17.0</td>\n",
       "      <td>3.778492</td>\n",
       "    </tr>\n",
       "    <tr>\n",
       "      <th>1</th>\n",
       "      <td>status</td>\n",
       "      <td>7.0</td>\n",
       "      <td>5.010635</td>\n",
       "    </tr>\n",
       "    <tr>\n",
       "      <th>2</th>\n",
       "      <td>quo</td>\n",
       "      <td>1.0</td>\n",
       "      <td>4.653960</td>\n",
       "    </tr>\n",
       "    <tr>\n",
       "      <th>3</th>\n",
       "      <td>says</td>\n",
       "      <td>59.0</td>\n",
       "      <td>2.879008</td>\n",
       "    </tr>\n",
       "    <tr>\n",
       "      <th>4</th>\n",
       "      <td>disturbed</td>\n",
       "      <td>1.0</td>\n",
       "      <td>6.956545</td>\n",
       "    </tr>\n",
       "    <tr>\n",
       "      <th>...</th>\n",
       "      <td>...</td>\n",
       "      <td>...</td>\n",
       "      <td>...</td>\n",
       "    </tr>\n",
       "    <tr>\n",
       "      <th>8833</th>\n",
       "      <td>finishes</td>\n",
       "      <td>1.0</td>\n",
       "      <td>6.956545</td>\n",
       "    </tr>\n",
       "    <tr>\n",
       "      <th>8834</th>\n",
       "      <td>shoots</td>\n",
       "      <td>1.0</td>\n",
       "      <td>6.263398</td>\n",
       "    </tr>\n",
       "    <tr>\n",
       "      <th>8835</th>\n",
       "      <td>69</td>\n",
       "      <td>1.0</td>\n",
       "      <td>6.263398</td>\n",
       "    </tr>\n",
       "    <tr>\n",
       "      <th>8836</th>\n",
       "      <td>desperately</td>\n",
       "      <td>1.0</td>\n",
       "      <td>6.956545</td>\n",
       "    </tr>\n",
       "    <tr>\n",
       "      <th>8837</th>\n",
       "      <td>brigadier</td>\n",
       "      <td>1.0</td>\n",
       "      <td>6.956545</td>\n",
       "    </tr>\n",
       "  </tbody>\n",
       "</table>\n",
       "<p>8838 rows × 3 columns</p>\n",
       "</div>"
      ],
      "text/plain": [
       "            words    tf       idf\n",
       "0        vajpayee  17.0  3.778492\n",
       "1          status   7.0  5.010635\n",
       "2             quo   1.0  4.653960\n",
       "3            says  59.0  2.879008\n",
       "4       disturbed   1.0  6.956545\n",
       "...           ...   ...       ...\n",
       "8833     finishes   1.0  6.956545\n",
       "8834       shoots   1.0  6.263398\n",
       "8835           69   1.0  6.263398\n",
       "8836  desperately   1.0  6.956545\n",
       "8837    brigadier   1.0  6.956545\n",
       "\n",
       "[8838 rows x 3 columns]"
      ]
     },
     "execution_count": 54,
     "metadata": {},
     "output_type": "execute_result"
    }
   ],
   "source": [
    "for i,word in enumerate(tf['words']):\n",
    "    tf.loc[i, 'idf'] = np.log(news1.shape[0]/(len(news[news['headline_text'].str.contains(word)])))\n",
    "tf"
   ]
  },
  {
   "cell_type": "code",
   "execution_count": 55,
   "metadata": {
    "colab": {
     "base_uri": "https://localhost:8080/",
     "height": 402
    },
    "id": "59QSCZQPonBP",
    "outputId": "f1bb2e93-e2ef-496c-84fd-31f4a195b28b"
   },
   "outputs": [
    {
     "data": {
      "text/html": [
       "<div>\n",
       "<style scoped>\n",
       "    .dataframe tbody tr th:only-of-type {\n",
       "        vertical-align: middle;\n",
       "    }\n",
       "\n",
       "    .dataframe tbody tr th {\n",
       "        vertical-align: top;\n",
       "    }\n",
       "\n",
       "    .dataframe thead th {\n",
       "        text-align: right;\n",
       "    }\n",
       "</style>\n",
       "<table border=\"1\" class=\"dataframe\">\n",
       "  <thead>\n",
       "    <tr style=\"text-align: right;\">\n",
       "      <th></th>\n",
       "      <th>words</th>\n",
       "      <th>tf</th>\n",
       "      <th>idf</th>\n",
       "      <th>tfidf</th>\n",
       "    </tr>\n",
       "  </thead>\n",
       "  <tbody>\n",
       "    <tr>\n",
       "      <th>0</th>\n",
       "      <td>vajpayee</td>\n",
       "      <td>17.0</td>\n",
       "      <td>3.778492</td>\n",
       "      <td>64.234357</td>\n",
       "    </tr>\n",
       "    <tr>\n",
       "      <th>1</th>\n",
       "      <td>status</td>\n",
       "      <td>7.0</td>\n",
       "      <td>5.010635</td>\n",
       "      <td>35.074447</td>\n",
       "    </tr>\n",
       "    <tr>\n",
       "      <th>2</th>\n",
       "      <td>quo</td>\n",
       "      <td>1.0</td>\n",
       "      <td>4.653960</td>\n",
       "      <td>4.653960</td>\n",
       "    </tr>\n",
       "    <tr>\n",
       "      <th>3</th>\n",
       "      <td>says</td>\n",
       "      <td>59.0</td>\n",
       "      <td>2.879008</td>\n",
       "      <td>169.861472</td>\n",
       "    </tr>\n",
       "    <tr>\n",
       "      <th>4</th>\n",
       "      <td>disturbed</td>\n",
       "      <td>1.0</td>\n",
       "      <td>6.956545</td>\n",
       "      <td>6.956545</td>\n",
       "    </tr>\n",
       "    <tr>\n",
       "      <th>...</th>\n",
       "      <td>...</td>\n",
       "      <td>...</td>\n",
       "      <td>...</td>\n",
       "      <td>...</td>\n",
       "    </tr>\n",
       "    <tr>\n",
       "      <th>8833</th>\n",
       "      <td>finishes</td>\n",
       "      <td>1.0</td>\n",
       "      <td>6.956545</td>\n",
       "      <td>6.956545</td>\n",
       "    </tr>\n",
       "    <tr>\n",
       "      <th>8834</th>\n",
       "      <td>shoots</td>\n",
       "      <td>1.0</td>\n",
       "      <td>6.263398</td>\n",
       "      <td>6.263398</td>\n",
       "    </tr>\n",
       "    <tr>\n",
       "      <th>8835</th>\n",
       "      <td>69</td>\n",
       "      <td>1.0</td>\n",
       "      <td>6.263398</td>\n",
       "      <td>6.263398</td>\n",
       "    </tr>\n",
       "    <tr>\n",
       "      <th>8836</th>\n",
       "      <td>desperately</td>\n",
       "      <td>1.0</td>\n",
       "      <td>6.956545</td>\n",
       "      <td>6.956545</td>\n",
       "    </tr>\n",
       "    <tr>\n",
       "      <th>8837</th>\n",
       "      <td>brigadier</td>\n",
       "      <td>1.0</td>\n",
       "      <td>6.956545</td>\n",
       "      <td>6.956545</td>\n",
       "    </tr>\n",
       "  </tbody>\n",
       "</table>\n",
       "<p>8838 rows × 4 columns</p>\n",
       "</div>"
      ],
      "text/plain": [
       "            words    tf       idf       tfidf\n",
       "0        vajpayee  17.0  3.778492   64.234357\n",
       "1          status   7.0  5.010635   35.074447\n",
       "2             quo   1.0  4.653960    4.653960\n",
       "3            says  59.0  2.879008  169.861472\n",
       "4       disturbed   1.0  6.956545    6.956545\n",
       "...           ...   ...       ...         ...\n",
       "8833     finishes   1.0  6.956545    6.956545\n",
       "8834       shoots   1.0  6.263398    6.263398\n",
       "8835           69   1.0  6.263398    6.263398\n",
       "8836  desperately   1.0  6.956545    6.956545\n",
       "8837    brigadier   1.0  6.956545    6.956545\n",
       "\n",
       "[8838 rows x 4 columns]"
      ]
     },
     "execution_count": 55,
     "metadata": {},
     "output_type": "execute_result"
    }
   ],
   "source": [
    "tf['tfidf'] = tf['tf'] * tf['idf']\n",
    "tf"
   ]
  },
  {
   "cell_type": "markdown",
   "metadata": {},
   "source": [
    "### Performing Sentimental analysis"
   ]
  },
  {
   "cell_type": "code",
   "execution_count": 56,
   "metadata": {
    "colab": {
     "base_uri": "https://localhost:8080/",
     "height": 218
    },
    "id": "N7RQlh_HouLr",
    "outputId": "6e078866-0de3-4103-d934-9b4f67fb318c"
   },
   "outputs": [
    {
     "data": {
      "text/plain": [
       "1                                       (0.0, 0.0)\n",
       "2                                       (0.0, 0.0)\n",
       "3                                       (0.0, 0.0)\n",
       "4                                       (0.0, 0.0)\n",
       "5       (0.05000000000000001, 0.24166666666666664)\n",
       "                           ...                    \n",
       "5995                                    (0.0, 0.0)\n",
       "5996                                    (0.0, 0.0)\n",
       "5997                                    (0.0, 0.0)\n",
       "5998                                   (-0.6, 1.0)\n",
       "5999                                    (0.0, 0.0)\n",
       "Name: headline_text, Length: 5172, dtype: object"
      ]
     },
     "execution_count": 56,
     "metadata": {},
     "output_type": "execute_result"
    }
   ],
   "source": [
    "news['headline_text'][1:].apply(lambda x: TextBlob(x).sentiment)"
   ]
  },
  {
   "cell_type": "markdown",
   "metadata": {},
   "source": [
    "### Assigning polarity"
   ]
  },
  {
   "cell_type": "code",
   "execution_count": 57,
   "metadata": {
    "colab": {
     "base_uri": "https://localhost:8080/",
     "height": 296
    },
    "id": "ek8hooytpPU_",
    "outputId": "4bc47a5f-5bff-4830-fc8c-08188fa0dcd6"
   },
   "outputs": [
    {
     "data": {
      "text/html": [
       "<div>\n",
       "<style scoped>\n",
       "    .dataframe tbody tr th:only-of-type {\n",
       "        vertical-align: middle;\n",
       "    }\n",
       "\n",
       "    .dataframe tbody tr th {\n",
       "        vertical-align: top;\n",
       "    }\n",
       "\n",
       "    .dataframe thead th {\n",
       "        text-align: right;\n",
       "    }\n",
       "</style>\n",
       "<table border=\"1\" class=\"dataframe\">\n",
       "  <thead>\n",
       "    <tr style=\"text-align: right;\">\n",
       "      <th></th>\n",
       "      <th>headline_text</th>\n",
       "      <th>sentiment</th>\n",
       "    </tr>\n",
       "  </thead>\n",
       "  <tbody>\n",
       "    <tr>\n",
       "      <th>0</th>\n",
       "      <td>win cena satisfying defeating undertaker bigge...</td>\n",
       "      <td>0.433333</td>\n",
       "    </tr>\n",
       "    <tr>\n",
       "      <th>1</th>\n",
       "      <td>status quo disturbed ayodhya says vajpayee</td>\n",
       "      <td>0.000000</td>\n",
       "    </tr>\n",
       "    <tr>\n",
       "      <th>2</th>\n",
       "      <td>fissures hurriyat pak visit</td>\n",
       "      <td>0.000000</td>\n",
       "    </tr>\n",
       "    <tr>\n",
       "      <th>3</th>\n",
       "      <td>americas unwanted heading india</td>\n",
       "      <td>0.000000</td>\n",
       "    </tr>\n",
       "    <tr>\n",
       "      <th>4</th>\n",
       "      <td>bigwigs destination goa</td>\n",
       "      <td>0.000000</td>\n",
       "    </tr>\n",
       "  </tbody>\n",
       "</table>\n",
       "</div>"
      ],
      "text/plain": [
       "                                       headline_text  sentiment\n",
       "0  win cena satisfying defeating undertaker bigge...   0.433333\n",
       "1         status quo disturbed ayodhya says vajpayee   0.000000\n",
       "2                        fissures hurriyat pak visit   0.000000\n",
       "3                    americas unwanted heading india   0.000000\n",
       "4                            bigwigs destination goa   0.000000"
      ]
     },
     "execution_count": 57,
     "metadata": {},
     "output_type": "execute_result"
    }
   ],
   "source": [
    "news['sentiment'] = news['headline_text'].apply(lambda x: TextBlob(x).sentiment[0] )\n",
    "news[['headline_text','sentiment']].head()"
   ]
  },
  {
   "cell_type": "code",
   "execution_count": 58,
   "metadata": {
    "colab": {
     "base_uri": "https://localhost:8080/",
     "height": 469
    },
    "id": "CGbsjcfxzndr",
    "outputId": "742485b3-2311-4026-bb1b-c89e16f9a5a8"
   },
   "outputs": [
    {
     "data": {
      "text/html": [
       "<div>\n",
       "<style scoped>\n",
       "    .dataframe tbody tr th:only-of-type {\n",
       "        vertical-align: middle;\n",
       "    }\n",
       "\n",
       "    .dataframe tbody tr th {\n",
       "        vertical-align: top;\n",
       "    }\n",
       "\n",
       "    .dataframe thead th {\n",
       "        text-align: right;\n",
       "    }\n",
       "</style>\n",
       "<table border=\"1\" class=\"dataframe\">\n",
       "  <thead>\n",
       "    <tr style=\"text-align: right;\">\n",
       "      <th></th>\n",
       "      <th>headline_category</th>\n",
       "      <th>headline_text</th>\n",
       "      <th>char_count</th>\n",
       "      <th>word_count</th>\n",
       "      <th>avg_word</th>\n",
       "      <th>stopwords</th>\n",
       "      <th>hastags</th>\n",
       "      <th>numerics</th>\n",
       "      <th>upper</th>\n",
       "      <th>sentiment</th>\n",
       "    </tr>\n",
       "  </thead>\n",
       "  <tbody>\n",
       "    <tr>\n",
       "      <th>0</th>\n",
       "      <td>sports.wwe</td>\n",
       "      <td>win cena satisfying defeating undertaker bigge...</td>\n",
       "      <td>69</td>\n",
       "      <td>10</td>\n",
       "      <td>6.000000</td>\n",
       "      <td>2</td>\n",
       "      <td>0</td>\n",
       "      <td>0</td>\n",
       "      <td>0</td>\n",
       "      <td>0.433333</td>\n",
       "    </tr>\n",
       "    <tr>\n",
       "      <th>1</th>\n",
       "      <td>unknown</td>\n",
       "      <td>status quo disturbed ayodhya says vajpayee</td>\n",
       "      <td>58</td>\n",
       "      <td>10</td>\n",
       "      <td>4.900000</td>\n",
       "      <td>4</td>\n",
       "      <td>0</td>\n",
       "      <td>0</td>\n",
       "      <td>0</td>\n",
       "      <td>0.000000</td>\n",
       "    </tr>\n",
       "    <tr>\n",
       "      <th>2</th>\n",
       "      <td>unknown</td>\n",
       "      <td>fissures hurriyat pak visit</td>\n",
       "      <td>35</td>\n",
       "      <td>6</td>\n",
       "      <td>5.000000</td>\n",
       "      <td>2</td>\n",
       "      <td>0</td>\n",
       "      <td>0</td>\n",
       "      <td>0</td>\n",
       "      <td>0.000000</td>\n",
       "    </tr>\n",
       "    <tr>\n",
       "      <th>3</th>\n",
       "      <td>unknown</td>\n",
       "      <td>americas unwanted heading india</td>\n",
       "      <td>37</td>\n",
       "      <td>5</td>\n",
       "      <td>6.600000</td>\n",
       "      <td>1</td>\n",
       "      <td>0</td>\n",
       "      <td>0</td>\n",
       "      <td>0</td>\n",
       "      <td>0.000000</td>\n",
       "    </tr>\n",
       "    <tr>\n",
       "      <th>4</th>\n",
       "      <td>unknown</td>\n",
       "      <td>bigwigs destination goa</td>\n",
       "      <td>34</td>\n",
       "      <td>6</td>\n",
       "      <td>4.833333</td>\n",
       "      <td>2</td>\n",
       "      <td>0</td>\n",
       "      <td>0</td>\n",
       "      <td>0</td>\n",
       "      <td>0.000000</td>\n",
       "    </tr>\n",
       "    <tr>\n",
       "      <th>...</th>\n",
       "      <td>...</td>\n",
       "      <td>...</td>\n",
       "      <td>...</td>\n",
       "      <td>...</td>\n",
       "      <td>...</td>\n",
       "      <td>...</td>\n",
       "      <td>...</td>\n",
       "      <td>...</td>\n",
       "      <td>...</td>\n",
       "      <td>...</td>\n",
       "    </tr>\n",
       "    <tr>\n",
       "      <th>5995</th>\n",
       "      <td>unknown</td>\n",
       "      <td>china largest mobile phone market soon</td>\n",
       "      <td>46</td>\n",
       "      <td>8</td>\n",
       "      <td>4.875000</td>\n",
       "      <td>2</td>\n",
       "      <td>0</td>\n",
       "      <td>0</td>\n",
       "      <td>0</td>\n",
       "      <td>0.000000</td>\n",
       "    </tr>\n",
       "    <tr>\n",
       "      <th>5996</th>\n",
       "      <td>unknown</td>\n",
       "      <td>jeev shoots 3under 69 finishes fourth</td>\n",
       "      <td>39</td>\n",
       "      <td>6</td>\n",
       "      <td>5.666667</td>\n",
       "      <td>0</td>\n",
       "      <td>0</td>\n",
       "      <td>0</td>\n",
       "      <td>0</td>\n",
       "      <td>0.000000</td>\n",
       "    </tr>\n",
       "    <tr>\n",
       "      <th>5997</th>\n",
       "      <td>india</td>\n",
       "      <td>hurriyat wait response vajpayee musharraf</td>\n",
       "      <td>54</td>\n",
       "      <td>8</td>\n",
       "      <td>5.875000</td>\n",
       "      <td>3</td>\n",
       "      <td>0</td>\n",
       "      <td>0</td>\n",
       "      <td>0</td>\n",
       "      <td>0.000000</td>\n",
       "    </tr>\n",
       "    <tr>\n",
       "      <th>5998</th>\n",
       "      <td>business.india-business</td>\n",
       "      <td>desperately seeking disinvestment</td>\n",
       "      <td>33</td>\n",
       "      <td>3</td>\n",
       "      <td>10.333333</td>\n",
       "      <td>0</td>\n",
       "      <td>0</td>\n",
       "      <td>0</td>\n",
       "      <td>0</td>\n",
       "      <td>-0.600000</td>\n",
       "    </tr>\n",
       "    <tr>\n",
       "      <th>5999</th>\n",
       "      <td>india</td>\n",
       "      <td>brigadier move court sacking</td>\n",
       "      <td>36</td>\n",
       "      <td>6</td>\n",
       "      <td>5.166667</td>\n",
       "      <td>2</td>\n",
       "      <td>0</td>\n",
       "      <td>0</td>\n",
       "      <td>0</td>\n",
       "      <td>0.000000</td>\n",
       "    </tr>\n",
       "  </tbody>\n",
       "</table>\n",
       "<p>5173 rows × 10 columns</p>\n",
       "</div>"
      ],
      "text/plain": [
       "            headline_category  \\\n",
       "0                  sports.wwe   \n",
       "1                     unknown   \n",
       "2                     unknown   \n",
       "3                     unknown   \n",
       "4                     unknown   \n",
       "...                       ...   \n",
       "5995                  unknown   \n",
       "5996                  unknown   \n",
       "5997                    india   \n",
       "5998  business.india-business   \n",
       "5999                    india   \n",
       "\n",
       "                                          headline_text  char_count  \\\n",
       "0     win cena satisfying defeating undertaker bigge...          69   \n",
       "1            status quo disturbed ayodhya says vajpayee          58   \n",
       "2                           fissures hurriyat pak visit          35   \n",
       "3                       americas unwanted heading india          37   \n",
       "4                               bigwigs destination goa          34   \n",
       "...                                                 ...         ...   \n",
       "5995             china largest mobile phone market soon          46   \n",
       "5996              jeev shoots 3under 69 finishes fourth          39   \n",
       "5997          hurriyat wait response vajpayee musharraf          54   \n",
       "5998                  desperately seeking disinvestment          33   \n",
       "5999                       brigadier move court sacking          36   \n",
       "\n",
       "      word_count   avg_word  stopwords  hastags  numerics  upper  sentiment  \n",
       "0             10   6.000000          2        0         0      0   0.433333  \n",
       "1             10   4.900000          4        0         0      0   0.000000  \n",
       "2              6   5.000000          2        0         0      0   0.000000  \n",
       "3              5   6.600000          1        0         0      0   0.000000  \n",
       "4              6   4.833333          2        0         0      0   0.000000  \n",
       "...          ...        ...        ...      ...       ...    ...        ...  \n",
       "5995           8   4.875000          2        0         0      0   0.000000  \n",
       "5996           6   5.666667          0        0         0      0   0.000000  \n",
       "5997           8   5.875000          3        0         0      0   0.000000  \n",
       "5998           3  10.333333          0        0         0      0  -0.600000  \n",
       "5999           6   5.166667          2        0         0      0   0.000000  \n",
       "\n",
       "[5173 rows x 10 columns]"
      ]
     },
     "execution_count": 58,
     "metadata": {},
     "output_type": "execute_result"
    }
   ],
   "source": [
    "news"
   ]
  },
  {
   "cell_type": "code",
   "execution_count": 61,
   "metadata": {
    "id": "Ef_seIm9zqX9"
   },
   "outputs": [],
   "source": [
    "x1=news[news['sentiment']>=0.5]\n",
    "x2=news[news['sentiment']<0.5]"
   ]
  },
  {
   "cell_type": "code",
   "execution_count": 62,
   "metadata": {
    "colab": {
     "base_uri": "https://localhost:8080/",
     "height": 454
    },
    "id": "xWrbkqCx0Fzb",
    "outputId": "22daa275-0f67-45b1-bc50-991b12cc7cf2"
   },
   "outputs": [],
   "source": [
    "news['sentiment']=news['sentiment'].astype(float)\n",
    "news.sentiment[news.sentiment>0]=1\n",
    "news.sentiment[news.sentiment<0]=-1;"
   ]
  },
  {
   "cell_type": "code",
   "execution_count": null,
   "metadata": {
    "colab": {
     "base_uri": "https://localhost:8080/",
     "height": 469
    },
    "id": "sakqQfyS0QcJ",
    "outputId": "4bb8382b-0a83-4a93-fc26-a31fe6571d0f"
   },
   "outputs": [],
   "source": [
    "news"
   ]
  },
  {
   "cell_type": "code",
   "execution_count": 63,
   "metadata": {
    "id": "ST_LpCol0TRw"
   },
   "outputs": [],
   "source": [
    "merge_data=pd.merge(news,Stock, left_index=True, right_index=True)"
   ]
  },
  {
   "cell_type": "code",
   "execution_count": 64,
   "metadata": {
    "colab": {
     "base_uri": "https://localhost:8080/",
     "height": 805
    },
    "id": "Nx_piHZs1XC3",
    "outputId": "9502a03e-a05a-4f81-f02c-89464ee5804b"
   },
   "outputs": [
    {
     "data": {
      "text/html": [
       "<div>\n",
       "<style scoped>\n",
       "    .dataframe tbody tr th:only-of-type {\n",
       "        vertical-align: middle;\n",
       "    }\n",
       "\n",
       "    .dataframe tbody tr th {\n",
       "        vertical-align: top;\n",
       "    }\n",
       "\n",
       "    .dataframe thead th {\n",
       "        text-align: right;\n",
       "    }\n",
       "</style>\n",
       "<table border=\"1\" class=\"dataframe\">\n",
       "  <thead>\n",
       "    <tr style=\"text-align: right;\">\n",
       "      <th></th>\n",
       "      <th>headline_category</th>\n",
       "      <th>headline_text</th>\n",
       "      <th>char_count</th>\n",
       "      <th>word_count</th>\n",
       "      <th>avg_word</th>\n",
       "      <th>stopwords</th>\n",
       "      <th>hastags</th>\n",
       "      <th>numerics</th>\n",
       "      <th>upper</th>\n",
       "      <th>sentiment</th>\n",
       "      <th>Date</th>\n",
       "      <th>Open</th>\n",
       "      <th>High</th>\n",
       "      <th>Low</th>\n",
       "      <th>Close</th>\n",
       "      <th>Adj Close</th>\n",
       "      <th>Volume</th>\n",
       "    </tr>\n",
       "  </thead>\n",
       "  <tbody>\n",
       "    <tr>\n",
       "      <th>0</th>\n",
       "      <td>sports.wwe</td>\n",
       "      <td>win cena satisfying defeating undertaker bigge...</td>\n",
       "      <td>69</td>\n",
       "      <td>10</td>\n",
       "      <td>6.000000</td>\n",
       "      <td>2</td>\n",
       "      <td>0</td>\n",
       "      <td>0</td>\n",
       "      <td>0</td>\n",
       "      <td>1.0</td>\n",
       "      <td>09-10-2019</td>\n",
       "      <td>37628.05078</td>\n",
       "      <td>38209.83984</td>\n",
       "      <td>37415.82813</td>\n",
       "      <td>38177.94922</td>\n",
       "      <td>38177.94922</td>\n",
       "      <td>36400</td>\n",
       "    </tr>\n",
       "    <tr>\n",
       "      <th>1</th>\n",
       "      <td>unknown</td>\n",
       "      <td>status quo disturbed ayodhya says vajpayee</td>\n",
       "      <td>58</td>\n",
       "      <td>10</td>\n",
       "      <td>4.900000</td>\n",
       "      <td>4</td>\n",
       "      <td>0</td>\n",
       "      <td>0</td>\n",
       "      <td>0</td>\n",
       "      <td>0.0</td>\n",
       "      <td>10-10-2019</td>\n",
       "      <td>38130.23047</td>\n",
       "      <td>38130.23047</td>\n",
       "      <td>37802.92969</td>\n",
       "      <td>37880.39844</td>\n",
       "      <td>37880.39844</td>\n",
       "      <td>27300</td>\n",
       "    </tr>\n",
       "    <tr>\n",
       "      <th>2</th>\n",
       "      <td>unknown</td>\n",
       "      <td>fissures hurriyat pak visit</td>\n",
       "      <td>35</td>\n",
       "      <td>6</td>\n",
       "      <td>5.000000</td>\n",
       "      <td>2</td>\n",
       "      <td>0</td>\n",
       "      <td>0</td>\n",
       "      <td>0</td>\n",
       "      <td>0.0</td>\n",
       "      <td>11-10-2019</td>\n",
       "      <td>37994.48047</td>\n",
       "      <td>38345.41016</td>\n",
       "      <td>37737.85156</td>\n",
       "      <td>38127.07813</td>\n",
       "      <td>38127.07813</td>\n",
       "      <td>39400</td>\n",
       "    </tr>\n",
       "    <tr>\n",
       "      <th>3</th>\n",
       "      <td>unknown</td>\n",
       "      <td>americas unwanted heading india</td>\n",
       "      <td>37</td>\n",
       "      <td>5</td>\n",
       "      <td>6.600000</td>\n",
       "      <td>1</td>\n",
       "      <td>0</td>\n",
       "      <td>0</td>\n",
       "      <td>0</td>\n",
       "      <td>0.0</td>\n",
       "      <td>14-10-2019</td>\n",
       "      <td>38208.23828</td>\n",
       "      <td>38513.69141</td>\n",
       "      <td>38066.12891</td>\n",
       "      <td>38214.46875</td>\n",
       "      <td>38214.46875</td>\n",
       "      <td>28500</td>\n",
       "    </tr>\n",
       "    <tr>\n",
       "      <th>4</th>\n",
       "      <td>unknown</td>\n",
       "      <td>bigwigs destination goa</td>\n",
       "      <td>34</td>\n",
       "      <td>6</td>\n",
       "      <td>4.833333</td>\n",
       "      <td>2</td>\n",
       "      <td>0</td>\n",
       "      <td>0</td>\n",
       "      <td>0</td>\n",
       "      <td>0.0</td>\n",
       "      <td>15-10-2019</td>\n",
       "      <td>38316.48828</td>\n",
       "      <td>38635.19141</td>\n",
       "      <td>38238.26953</td>\n",
       "      <td>38506.08984</td>\n",
       "      <td>38506.08984</td>\n",
       "      <td>26200</td>\n",
       "    </tr>\n",
       "    <tr>\n",
       "      <th>...</th>\n",
       "      <td>...</td>\n",
       "      <td>...</td>\n",
       "      <td>...</td>\n",
       "      <td>...</td>\n",
       "      <td>...</td>\n",
       "      <td>...</td>\n",
       "      <td>...</td>\n",
       "      <td>...</td>\n",
       "      <td>...</td>\n",
       "      <td>...</td>\n",
       "      <td>...</td>\n",
       "      <td>...</td>\n",
       "      <td>...</td>\n",
       "      <td>...</td>\n",
       "      <td>...</td>\n",
       "      <td>...</td>\n",
       "      <td>...</td>\n",
       "    </tr>\n",
       "    <tr>\n",
       "      <th>244</th>\n",
       "      <td>unknown</td>\n",
       "      <td>goa told start quickgrowth coconut project</td>\n",
       "      <td>46</td>\n",
       "      <td>7</td>\n",
       "      <td>5.714286</td>\n",
       "      <td>1</td>\n",
       "      <td>0</td>\n",
       "      <td>0</td>\n",
       "      <td>0</td>\n",
       "      <td>0.0</td>\n",
       "      <td>05-10-2020</td>\n",
       "      <td>38956.78125</td>\n",
       "      <td>39263.85156</td>\n",
       "      <td>38819.89063</td>\n",
       "      <td>38973.69922</td>\n",
       "      <td>38973.69922</td>\n",
       "      <td>15500</td>\n",
       "    </tr>\n",
       "    <tr>\n",
       "      <th>245</th>\n",
       "      <td>unknown</td>\n",
       "      <td>experts discuss horticulture development</td>\n",
       "      <td>40</td>\n",
       "      <td>4</td>\n",
       "      <td>9.250000</td>\n",
       "      <td>0</td>\n",
       "      <td>0</td>\n",
       "      <td>0</td>\n",
       "      <td>0</td>\n",
       "      <td>0.0</td>\n",
       "      <td>06-10-2020</td>\n",
       "      <td>39336.33984</td>\n",
       "      <td>39623.76172</td>\n",
       "      <td>39191.10156</td>\n",
       "      <td>39574.57031</td>\n",
       "      <td>39574.57031</td>\n",
       "      <td>11300</td>\n",
       "    </tr>\n",
       "    <tr>\n",
       "      <th>246</th>\n",
       "      <td>unknown</td>\n",
       "      <td>5 acquitted trespassing case</td>\n",
       "      <td>31</td>\n",
       "      <td>5</td>\n",
       "      <td>5.400000</td>\n",
       "      <td>1</td>\n",
       "      <td>0</td>\n",
       "      <td>1</td>\n",
       "      <td>0</td>\n",
       "      <td>0.0</td>\n",
       "      <td>07-10-2020</td>\n",
       "      <td>39633.19141</td>\n",
       "      <td>39968.03906</td>\n",
       "      <td>39450.82031</td>\n",
       "      <td>39878.94922</td>\n",
       "      <td>39878.94922</td>\n",
       "      <td>15000</td>\n",
       "    </tr>\n",
       "    <tr>\n",
       "      <th>247</th>\n",
       "      <td>unknown</td>\n",
       "      <td>development horticulture stressed</td>\n",
       "      <td>36</td>\n",
       "      <td>4</td>\n",
       "      <td>8.250000</td>\n",
       "      <td>1</td>\n",
       "      <td>0</td>\n",
       "      <td>0</td>\n",
       "      <td>0</td>\n",
       "      <td>0.0</td>\n",
       "      <td>08-10-2020</td>\n",
       "      <td>40204.32031</td>\n",
       "      <td>40468.87891</td>\n",
       "      <td>40062.23047</td>\n",
       "      <td>40182.67188</td>\n",
       "      <td>40182.67188</td>\n",
       "      <td>14400</td>\n",
       "    </tr>\n",
       "    <tr>\n",
       "      <th>248</th>\n",
       "      <td>unknown</td>\n",
       "      <td>new officebearers icsi</td>\n",
       "      <td>27</td>\n",
       "      <td>4</td>\n",
       "      <td>6.000000</td>\n",
       "      <td>1</td>\n",
       "      <td>0</td>\n",
       "      <td>0</td>\n",
       "      <td>1</td>\n",
       "      <td>1.0</td>\n",
       "      <td>09-10-2020</td>\n",
       "      <td>40226.25000</td>\n",
       "      <td>40585.35938</td>\n",
       "      <td>40066.53906</td>\n",
       "      <td>40509.48828</td>\n",
       "      <td>40509.48828</td>\n",
       "      <td>0</td>\n",
       "    </tr>\n",
       "  </tbody>\n",
       "</table>\n",
       "<p>172 rows × 17 columns</p>\n",
       "</div>"
      ],
      "text/plain": [
       "    headline_category                                      headline_text  \\\n",
       "0          sports.wwe  win cena satisfying defeating undertaker bigge...   \n",
       "1             unknown         status quo disturbed ayodhya says vajpayee   \n",
       "2             unknown                        fissures hurriyat pak visit   \n",
       "3             unknown                    americas unwanted heading india   \n",
       "4             unknown                            bigwigs destination goa   \n",
       "..                ...                                                ...   \n",
       "244           unknown         goa told start quickgrowth coconut project   \n",
       "245           unknown           experts discuss horticulture development   \n",
       "246           unknown                       5 acquitted trespassing case   \n",
       "247           unknown                  development horticulture stressed   \n",
       "248           unknown                             new officebearers icsi   \n",
       "\n",
       "     char_count  word_count  avg_word  stopwords  hastags  numerics  upper  \\\n",
       "0            69          10  6.000000          2        0         0      0   \n",
       "1            58          10  4.900000          4        0         0      0   \n",
       "2            35           6  5.000000          2        0         0      0   \n",
       "3            37           5  6.600000          1        0         0      0   \n",
       "4            34           6  4.833333          2        0         0      0   \n",
       "..          ...         ...       ...        ...      ...       ...    ...   \n",
       "244          46           7  5.714286          1        0         0      0   \n",
       "245          40           4  9.250000          0        0         0      0   \n",
       "246          31           5  5.400000          1        0         1      0   \n",
       "247          36           4  8.250000          1        0         0      0   \n",
       "248          27           4  6.000000          1        0         0      1   \n",
       "\n",
       "     sentiment        Date         Open         High          Low  \\\n",
       "0          1.0  09-10-2019  37628.05078  38209.83984  37415.82813   \n",
       "1          0.0  10-10-2019  38130.23047  38130.23047  37802.92969   \n",
       "2          0.0  11-10-2019  37994.48047  38345.41016  37737.85156   \n",
       "3          0.0  14-10-2019  38208.23828  38513.69141  38066.12891   \n",
       "4          0.0  15-10-2019  38316.48828  38635.19141  38238.26953   \n",
       "..         ...         ...          ...          ...          ...   \n",
       "244        0.0  05-10-2020  38956.78125  39263.85156  38819.89063   \n",
       "245        0.0  06-10-2020  39336.33984  39623.76172  39191.10156   \n",
       "246        0.0  07-10-2020  39633.19141  39968.03906  39450.82031   \n",
       "247        0.0  08-10-2020  40204.32031  40468.87891  40062.23047   \n",
       "248        1.0  09-10-2020  40226.25000  40585.35938  40066.53906   \n",
       "\n",
       "           Close    Adj Close  Volume  \n",
       "0    38177.94922  38177.94922   36400  \n",
       "1    37880.39844  37880.39844   27300  \n",
       "2    38127.07813  38127.07813   39400  \n",
       "3    38214.46875  38214.46875   28500  \n",
       "4    38506.08984  38506.08984   26200  \n",
       "..           ...          ...     ...  \n",
       "244  38973.69922  38973.69922   15500  \n",
       "245  39574.57031  39574.57031   11300  \n",
       "246  39878.94922  39878.94922   15000  \n",
       "247  40182.67188  40182.67188   14400  \n",
       "248  40509.48828  40509.48828       0  \n",
       "\n",
       "[172 rows x 17 columns]"
      ]
     },
     "execution_count": 64,
     "metadata": {},
     "output_type": "execute_result"
    }
   ],
   "source": [
    "merge_data"
   ]
  },
  {
   "cell_type": "code",
   "execution_count": 96,
   "metadata": {},
   "outputs": [
    {
     "data": {
      "text/plain": [
       "[Text(0, 0, 'Negative'), Text(1, 0, 'Neutral'), Text(2, 0, 'Positive')]"
      ]
     },
     "execution_count": 96,
     "metadata": {},
     "output_type": "execute_result"
    },
    {
     "data": {
      "image/png": "[encoded data removed]",
      "text/plain": [
       "<Figure size 720x360 with 1 Axes>"
      ]
     },
     "metadata": {},
     "output_type": "display_data"
    }
   ],
   "source": [
    "plt.figure(figsize=(10,5))\n",
    "ax=sns.countplot(news['sentiment'],palette='Set3')\n",
    "ax.set_xticklabels(['Negative', 'Neutral', 'Positive'])"
   ]
  },
  {
   "cell_type": "markdown",
   "metadata": {},
   "source": [
    "## Here we can see that there are much more neutral sentiments followed by positive and negative sentiments based on the their polarity acquired from above techniques"
   ]
  },
  {
   "cell_type": "code",
   "execution_count": 65,
   "metadata": {
    "id": "WDc0qjty11Az"
   },
   "outputs": [],
   "source": [
    "X=merge_data.iloc[:,[2,3,4,5,6,7,9,11,12,13,14,15,16]].values"
   ]
  },
  {
   "cell_type": "code",
   "execution_count": 66,
   "metadata": {
    "id": "axktUNTy2SAx"
   },
   "outputs": [],
   "source": [
    "y=merge_data['sentiment']"
   ]
  },
  {
   "cell_type": "code",
   "execution_count": 67,
   "metadata": {
    "colab": {
     "base_uri": "https://localhost:8080/",
     "height": 67
    },
    "id": "SjfYsdxl2Vru",
    "outputId": "00a2505a-9291-4785-9838-f00a3a698386"
   },
   "outputs": [
    {
     "data": {
      "text/plain": [
       " 0.0    140\n",
       " 1.0     24\n",
       "-1.0      8\n",
       "Name: sentiment, dtype: int64"
      ]
     },
     "execution_count": 67,
     "metadata": {},
     "output_type": "execute_result"
    }
   ],
   "source": [
    "y.value_counts()"
   ]
  },
  {
   "cell_type": "code",
   "execution_count": 69,
   "metadata": {
    "id": "T_z_67_v2bd3"
   },
   "outputs": [],
   "source": [
    "from sklearn.model_selection import train_test_split"
   ]
  },
  {
   "cell_type": "code",
   "execution_count": 70,
   "metadata": {
    "id": "Zz3USm8S2jLB"
   },
   "outputs": [],
   "source": [
    "X_train,X_test,y_train,y_test= train_test_split(X,y,test_size=0.2, random_state=45)"
   ]
  },
  {
   "cell_type": "code",
   "execution_count": 71,
   "metadata": {
    "colab": {
     "base_uri": "https://localhost:8080/",
     "height": 84
    },
    "id": "DU6yId2T2usO",
    "outputId": "89f48be2-b05b-4a12-9995-8edef8db13a7"
   },
   "outputs": [
    {
     "data": {
      "text/plain": [
       "SVC(class_weight='balanced', kernel='poly')"
      ]
     },
     "execution_count": 71,
     "metadata": {},
     "output_type": "execute_result"
    }
   ],
   "source": [
    "from sklearn.svm import SVC\n",
    "svclassifier = SVC(kernel='poly',degree=3,class_weight='balanced')\n",
    "svclassifier.fit(X_train, y_train)"
   ]
  },
  {
   "cell_type": "code",
   "execution_count": 72,
   "metadata": {
    "id": "0qNzBD_P2yYL"
   },
   "outputs": [],
   "source": [
    "y_pred = svclassifier.predict(X_test)\n"
   ]
  },
  {
   "cell_type": "code",
   "execution_count": 73,
   "metadata": {
    "colab": {
     "base_uri": "https://localhost:8080/",
     "height": 34
    },
    "id": "I1m8Jexl3L7X",
    "outputId": "73397e89-a876-47b2-af6f-4360e6f746b9"
   },
   "outputs": [
    {
     "data": {
      "text/plain": [
       "array([-1.,  0.,  1.,  1., -1.,  0.,  1., -1., -1.,  0.,  1., -1.,  0.,\n",
       "       -1.,  1.,  1.,  1.,  1.,  1.,  1., -1., -1.,  0., -1.,  1.,  1.,\n",
       "        1.,  0.,  1., -1.,  0.,  0.,  1.,  0.,  1.])"
      ]
     },
     "execution_count": 73,
     "metadata": {},
     "output_type": "execute_result"
    }
   ],
   "source": [
    "y_pred"
   ]
  },
  {
   "cell_type": "code",
   "execution_count": 74,
   "metadata": {
    "colab": {
     "base_uri": "https://localhost:8080/",
     "height": 34
    },
    "id": "Ig6hmd7W3QcY",
    "outputId": "5f4e1fde-4872-4792-a728-91b09ed5694e"
   },
   "outputs": [
    {
     "name": "stdout",
     "output_type": "stream",
     "text": [
      "[[ 0  0  1]\n",
      " [ 8  7 12]\n",
      " [ 2  2  3]]\n"
     ]
    }
   ],
   "source": [
    "from sklearn.metrics import classification_report, confusion_matrix\n",
    "print(confusion_matrix(y_test,y_pred))"
   ]
  },
  {
   "cell_type": "code",
   "execution_count": 75,
   "metadata": {
    "colab": {
     "base_uri": "https://localhost:8080/",
     "height": 151
    },
    "id": "0bpvmBNu3VDF",
    "outputId": "a42d4406-b97c-4e5a-9dc7-b07e48a18bcb"
   },
   "outputs": [
    {
     "name": "stdout",
     "output_type": "stream",
     "text": [
      "              precision    recall  f1-score   support\n",
      "\n",
      "        -1.0       0.00      0.00      0.00         1\n",
      "         0.0       0.78      0.26      0.39        27\n",
      "         1.0       0.19      0.43      0.26         7\n",
      "\n",
      "    accuracy                           0.29        35\n",
      "   macro avg       0.32      0.23      0.22        35\n",
      "weighted avg       0.64      0.29      0.35        35\n",
      "\n"
     ]
    }
   ],
   "source": [
    "\n",
    "print(classification_report(y_test,y_pred))"
   ]
  },
  {
   "cell_type": "code",
   "execution_count": 76,
   "metadata": {
    "id": "KUfYN3qU3a9f"
   },
   "outputs": [],
   "source": [
    "from sklearn.discriminant_analysis import LinearDiscriminantAnalysis"
   ]
  },
  {
   "cell_type": "code",
   "execution_count": 77,
   "metadata": {
    "id": "E3o1o_dG3fou"
   },
   "outputs": [],
   "source": [
    "model = LinearDiscriminantAnalysis().fit(X_train, y_train)"
   ]
  },
  {
   "cell_type": "code",
   "execution_count": 78,
   "metadata": {
    "colab": {
     "base_uri": "https://localhost:8080/",
     "height": 34
    },
    "id": "4sA7sbvl3ib3",
    "outputId": "ae051472-25c7-4140-f0bd-10561a969458"
   },
   "outputs": [
    {
     "data": {
      "text/plain": [
       "array([0., 0., 0., 0., 0., 0., 0., 0., 0., 0., 0., 0., 0., 0., 0., 0., 0.,\n",
       "       0., 0., 0., 0., 0., 0., 0., 0., 0., 0., 0., 0., 0., 0., 0., 0., 0.,\n",
       "       1.])"
      ]
     },
     "execution_count": 78,
     "metadata": {},
     "output_type": "execute_result"
    }
   ],
   "source": [
    "predictions = model.predict(X_test)\n",
    "predictions"
   ]
  },
  {
   "cell_type": "code",
   "execution_count": 88,
   "metadata": {
    "id": "sGLp6Vgu3mJJ"
   },
   "outputs": [],
   "source": [
    "from sklearn.metrics import classification_report"
   ]
  },
  {
   "cell_type": "code",
   "execution_count": 94,
   "metadata": {
    "colab": {
     "base_uri": "https://localhost:8080/",
     "height": 151
    },
    "id": "NU6djJRT3qxT",
    "outputId": "efc4c7a7-0f56-46ef-aac2-5f083a02c936"
   },
   "outputs": [
    {
     "name": "stderr",
     "output_type": "stream",
     "text": [
      "C:\\Users\\Hp\\anaconda3\\envs\\Scikit learn\\lib\\site-packages\\sklearn\\metrics\\_classification.py:1221: UndefinedMetricWarning: Precision and F-score are ill-defined and being set to 0.0 in labels with no predicted samples. Use `zero_division` parameter to control this behavior.\n",
      "  _warn_prf(average, modifier, msg_start, len(result))\n"
     ]
    },
    {
     "name": "stdout",
     "output_type": "stream",
     "text": [
      "              precision    recall  f1-score   support\n",
      "\n",
      "        -1.0       0.00      0.00      0.00         1\n",
      "         0.0       0.76      0.96      0.85        27\n",
      "         1.0       0.00      0.00      0.00         7\n",
      "\n",
      "    accuracy                           0.74        35\n",
      "   macro avg       0.25      0.32      0.28        35\n",
      "weighted avg       0.59      0.74      0.66        35\n",
      "\n"
     ]
    }
   ],
   "source": [
    "print( classification_report(y_test, predictions) )"
   ]
  },
  {
   "cell_type": "markdown",
   "metadata": {},
   "source": [
    "## Conclusion: I have used two models which we can clearly see that Linear Discriminant analysis has around 74% accuracy followed by SVC model which was 29%"
   ]
  },
  {
   "cell_type": "markdown",
   "metadata": {},
   "source": [
    "# Here I have shown that how different news haedlines can affect stock market price and here i have used price of S&P BSE."
   ]
  },
  {
   "cell_type": "code",
   "execution_count": null,
   "metadata": {},
   "outputs": [],
   "source": []
  }
 ],
 "metadata": {
  "colab": {
   "collapsed_sections": [],
   "name": "Untitled13.ipynb",
   "provenance": []
  },
  "kernelspec": {
   "display_name": "Python 3",
   "language": "python",
   "name": "python3"
  },
  "language_info": {
   "codemirror_mode": {
    "name": "ipython",
    "version": 3
   },
   "file_extension": ".py",
   "mimetype": "text/x-python",
   "name": "python",
   "nbconvert_exporter": "python",
   "pygments_lexer": "ipython3",
   "version": "3.6.10"
  }
 },
 "nbformat": 4,
 "nbformat_minor": 1
}
